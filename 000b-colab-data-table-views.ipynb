{
  "nbformat": 4,
  "nbformat_minor": 0,
  "metadata": {
    "colab": {
      "name": "000b-colab-data-table-views.ipynb",
      "provenance": [],
      "authorship_tag": "ABX9TyPzleAfR0XOsLGZ1VJAm9+j",
      "include_colab_link": true
    },
    "kernelspec": {
      "name": "python3",
      "display_name": "Python 3"
    },
    "language_info": {
      "name": "python"
    }
  },
  "cells": [
    {
      "cell_type": "markdown",
      "metadata": {
        "id": "view-in-github",
        "colab_type": "text"
      },
      "source": [
        "<a href=\"https://colab.research.google.com/github/fdluiuc/lecture-notebooks/blob/master/000b-colab-data-table-views.ipynb\" target=\"_parent\"><img src=\"https://colab.research.google.com/assets/colab-badge.svg\" alt=\"Open In Colab\"/></a>"
      ]
    },
    {
      "cell_type": "markdown",
      "source": [
        "Import Pandas and create a data frame."
      ],
      "metadata": {
        "id": "aS5rDdAzBX_3"
      }
    },
    {
      "cell_type": "code",
      "source": [
        "import pandas as pd\n",
        "d = {'col1': [1, 2], 'col2': [3, 4]}\n",
        "df = pd.DataFrame(data=d)"
      ],
      "metadata": {
        "id": "RvmHnWcABJ1m"
      },
      "execution_count": 1,
      "outputs": []
    },
    {
      "cell_type": "markdown",
      "source": [
        "Display a data frame via `print()`"
      ],
      "metadata": {
        "id": "QMYEBBsRBsgP"
      }
    },
    {
      "cell_type": "code",
      "source": [
        "print(df)"
      ],
      "metadata": {
        "colab": {
          "base_uri": "https://localhost:8080/"
        },
        "id": "ECl6F-bVBWwc",
        "outputId": "2803935e-d774-481f-a519-ef5300ac1413"
      },
      "execution_count": 2,
      "outputs": [
        {
          "output_type": "stream",
          "name": "stdout",
          "text": [
            "   col1  col2\n",
            "0     1     3\n",
            "1     2     4\n"
          ]
        }
      ]
    },
    {
      "cell_type": "markdown",
      "source": [
        "Display a data frame using `display()` function for improved formatting."
      ],
      "metadata": {
        "id": "x6IIy3_jBxrr"
      }
    },
    {
      "cell_type": "code",
      "source": [
        "display(df)"
      ],
      "metadata": {
        "colab": {
          "base_uri": "https://localhost:8080/",
          "height": 112
        },
        "id": "tQYMe9iZByP0",
        "outputId": "8cd8029d-665d-4101-8174-7e7b86cc4afa"
      },
      "execution_count": 3,
      "outputs": [
        {
          "output_type": "display_data",
          "data": {
            "text/html": [
              "\n",
              "  <div id=\"df-c6d6262a-3f96-416b-9f8a-ec804d68615f\">\n",
              "    <div class=\"colab-df-container\">\n",
              "      <div>\n",
              "<style scoped>\n",
              "    .dataframe tbody tr th:only-of-type {\n",
              "        vertical-align: middle;\n",
              "    }\n",
              "\n",
              "    .dataframe tbody tr th {\n",
              "        vertical-align: top;\n",
              "    }\n",
              "\n",
              "    .dataframe thead th {\n",
              "        text-align: right;\n",
              "    }\n",
              "</style>\n",
              "<table border=\"1\" class=\"dataframe\">\n",
              "  <thead>\n",
              "    <tr style=\"text-align: right;\">\n",
              "      <th></th>\n",
              "      <th>col1</th>\n",
              "      <th>col2</th>\n",
              "    </tr>\n",
              "  </thead>\n",
              "  <tbody>\n",
              "    <tr>\n",
              "      <th>0</th>\n",
              "      <td>1</td>\n",
              "      <td>3</td>\n",
              "    </tr>\n",
              "    <tr>\n",
              "      <th>1</th>\n",
              "      <td>2</td>\n",
              "      <td>4</td>\n",
              "    </tr>\n",
              "  </tbody>\n",
              "</table>\n",
              "</div>\n",
              "      <button class=\"colab-df-convert\" onclick=\"convertToInteractive('df-c6d6262a-3f96-416b-9f8a-ec804d68615f')\"\n",
              "              title=\"Convert this dataframe to an interactive table.\"\n",
              "              style=\"display:none;\">\n",
              "        \n",
              "  <svg xmlns=\"http://www.w3.org/2000/svg\" height=\"24px\"viewBox=\"0 0 24 24\"\n",
              "       width=\"24px\">\n",
              "    <path d=\"M0 0h24v24H0V0z\" fill=\"none\"/>\n",
              "    <path d=\"M18.56 5.44l.94 2.06.94-2.06 2.06-.94-2.06-.94-.94-2.06-.94 2.06-2.06.94zm-11 1L8.5 8.5l.94-2.06 2.06-.94-2.06-.94L8.5 2.5l-.94 2.06-2.06.94zm10 10l.94 2.06.94-2.06 2.06-.94-2.06-.94-.94-2.06-.94 2.06-2.06.94z\"/><path d=\"M17.41 7.96l-1.37-1.37c-.4-.4-.92-.59-1.43-.59-.52 0-1.04.2-1.43.59L10.3 9.45l-7.72 7.72c-.78.78-.78 2.05 0 2.83L4 21.41c.39.39.9.59 1.41.59.51 0 1.02-.2 1.41-.59l7.78-7.78 2.81-2.81c.8-.78.8-2.07 0-2.86zM5.41 20L4 18.59l7.72-7.72 1.47 1.35L5.41 20z\"/>\n",
              "  </svg>\n",
              "      </button>\n",
              "      \n",
              "  <style>\n",
              "    .colab-df-container {\n",
              "      display:flex;\n",
              "      flex-wrap:wrap;\n",
              "      gap: 12px;\n",
              "    }\n",
              "\n",
              "    .colab-df-convert {\n",
              "      background-color: #E8F0FE;\n",
              "      border: none;\n",
              "      border-radius: 50%;\n",
              "      cursor: pointer;\n",
              "      display: none;\n",
              "      fill: #1967D2;\n",
              "      height: 32px;\n",
              "      padding: 0 0 0 0;\n",
              "      width: 32px;\n",
              "    }\n",
              "\n",
              "    .colab-df-convert:hover {\n",
              "      background-color: #E2EBFA;\n",
              "      box-shadow: 0px 1px 2px rgba(60, 64, 67, 0.3), 0px 1px 3px 1px rgba(60, 64, 67, 0.15);\n",
              "      fill: #174EA6;\n",
              "    }\n",
              "\n",
              "    [theme=dark] .colab-df-convert {\n",
              "      background-color: #3B4455;\n",
              "      fill: #D2E3FC;\n",
              "    }\n",
              "\n",
              "    [theme=dark] .colab-df-convert:hover {\n",
              "      background-color: #434B5C;\n",
              "      box-shadow: 0px 1px 3px 1px rgba(0, 0, 0, 0.15);\n",
              "      filter: drop-shadow(0px 1px 2px rgba(0, 0, 0, 0.3));\n",
              "      fill: #FFFFFF;\n",
              "    }\n",
              "  </style>\n",
              "\n",
              "      <script>\n",
              "        const buttonEl =\n",
              "          document.querySelector('#df-c6d6262a-3f96-416b-9f8a-ec804d68615f button.colab-df-convert');\n",
              "        buttonEl.style.display =\n",
              "          google.colab.kernel.accessAllowed ? 'block' : 'none';\n",
              "\n",
              "        async function convertToInteractive(key) {\n",
              "          const element = document.querySelector('#df-c6d6262a-3f96-416b-9f8a-ec804d68615f');\n",
              "          const dataTable =\n",
              "            await google.colab.kernel.invokeFunction('convertToInteractive',\n",
              "                                                     [key], {});\n",
              "          if (!dataTable) return;\n",
              "\n",
              "          const docLinkHtml = 'Like what you see? Visit the ' +\n",
              "            '<a target=\"_blank\" href=https://colab.research.google.com/notebooks/data_table.ipynb>data table notebook</a>'\n",
              "            + ' to learn more about interactive tables.';\n",
              "          element.innerHTML = '';\n",
              "          dataTable['output_type'] = 'display_data';\n",
              "          await google.colab.output.renderOutput(dataTable, element);\n",
              "          const docLink = document.createElement('div');\n",
              "          docLink.innerHTML = docLinkHtml;\n",
              "          element.appendChild(docLink);\n",
              "        }\n",
              "      </script>\n",
              "    </div>\n",
              "  </div>\n",
              "  "
            ],
            "text/plain": [
              "   col1  col2\n",
              "0     1     3\n",
              "1     2     4"
            ]
          },
          "metadata": {}
        }
      ]
    },
    {
      "cell_type": "markdown",
      "source": [
        "Automatically display a data frame with interactive filter either with code or by clicking on the magic wand icon:"
      ],
      "metadata": {
        "id": "-rCVWsCqB4R2"
      }
    },
    {
      "cell_type": "markdown",
      "source": [
        "![Screen Shot 2022-01-19 at 7.10.10 PM.png](data:image/png;base64,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)"
      ],
      "metadata": {
        "id": "Grc6APPBCS3C"
      }
    },
    {
      "cell_type": "code",
      "execution_count": 4,
      "metadata": {
        "id": "CTufCV8wA2z4"
      },
      "outputs": [],
      "source": [
        "# Enable interactive explorer\n",
        "from google.colab import data_table\n",
        "data_table.enable_dataframe_formatter()"
      ]
    },
    {
      "cell_type": "code",
      "source": [
        "df"
      ],
      "metadata": {
        "colab": {
          "base_uri": "https://localhost:8080/",
          "height": 234
        },
        "id": "PN8_UrKsCGwq",
        "outputId": "90392d93-005d-45ab-fc05-a5424fc6ba56"
      },
      "execution_count": 5,
      "outputs": [
        {
          "output_type": "execute_result",
          "data": {
            "application/vnd.google.colaboratory.module+javascript": "\n      import \"https://ssl.gstatic.com/colaboratory/data_table/a6224c040fa35dcf/data_table.js\";\n\n      window.createDataTable({\n        data: [[{\n            'v': 0,\n            'f': \"0\",\n        },\n{\n            'v': 1,\n            'f': \"1\",\n        },\n{\n            'v': 3,\n            'f': \"3\",\n        }],\n [{\n            'v': 1,\n            'f': \"1\",\n        },\n{\n            'v': 2,\n            'f': \"2\",\n        },\n{\n            'v': 4,\n            'f': \"4\",\n        }]],\n        columns: [[\"number\", \"index\"], [\"number\", \"col1\"], [\"number\", \"col2\"]],\n        columnOptions: [{\"width\": \"1px\", \"className\": \"index_column\"}],\n        rowsPerPage: 25,\n        helpUrl: \"https://colab.research.google.com/notebooks/data_table.ipynb\",\n        suppressOutputScrolling: true,\n        minimumWidth: undefined,\n      });\n    ",
            "text/html": [
              "\n",
              "  <div id=\"df-1f3e4bdb-6084-4185-9a38-799fdb0a87a1\">\n",
              "    <div class=\"colab-df-container\">\n",
              "      <div>\n",
              "<style scoped>\n",
              "    .dataframe tbody tr th:only-of-type {\n",
              "        vertical-align: middle;\n",
              "    }\n",
              "\n",
              "    .dataframe tbody tr th {\n",
              "        vertical-align: top;\n",
              "    }\n",
              "\n",
              "    .dataframe thead th {\n",
              "        text-align: right;\n",
              "    }\n",
              "</style>\n",
              "<table border=\"1\" class=\"dataframe\">\n",
              "  <thead>\n",
              "    <tr style=\"text-align: right;\">\n",
              "      <th></th>\n",
              "      <th>col1</th>\n",
              "      <th>col2</th>\n",
              "    </tr>\n",
              "  </thead>\n",
              "  <tbody>\n",
              "    <tr>\n",
              "      <th>0</th>\n",
              "      <td>1</td>\n",
              "      <td>3</td>\n",
              "    </tr>\n",
              "    <tr>\n",
              "      <th>1</th>\n",
              "      <td>2</td>\n",
              "      <td>4</td>\n",
              "    </tr>\n",
              "  </tbody>\n",
              "</table>\n",
              "</div>\n",
              "      <button class=\"colab-df-convert\" onclick=\"convertToInteractive('df-1f3e4bdb-6084-4185-9a38-799fdb0a87a1')\"\n",
              "              title=\"Convert this dataframe to an interactive table.\"\n",
              "              style=\"display:none;\">\n",
              "        \n",
              "  <svg xmlns=\"http://www.w3.org/2000/svg\" height=\"24px\"viewBox=\"0 0 24 24\"\n",
              "       width=\"24px\">\n",
              "    <path d=\"M0 0h24v24H0V0z\" fill=\"none\"/>\n",
              "    <path d=\"M18.56 5.44l.94 2.06.94-2.06 2.06-.94-2.06-.94-.94-2.06-.94 2.06-2.06.94zm-11 1L8.5 8.5l.94-2.06 2.06-.94-2.06-.94L8.5 2.5l-.94 2.06-2.06.94zm10 10l.94 2.06.94-2.06 2.06-.94-2.06-.94-.94-2.06-.94 2.06-2.06.94z\"/><path d=\"M17.41 7.96l-1.37-1.37c-.4-.4-.92-.59-1.43-.59-.52 0-1.04.2-1.43.59L10.3 9.45l-7.72 7.72c-.78.78-.78 2.05 0 2.83L4 21.41c.39.39.9.59 1.41.59.51 0 1.02-.2 1.41-.59l7.78-7.78 2.81-2.81c.8-.78.8-2.07 0-2.86zM5.41 20L4 18.59l7.72-7.72 1.47 1.35L5.41 20z\"/>\n",
              "  </svg>\n",
              "      </button>\n",
              "      \n",
              "  <style>\n",
              "    .colab-df-container {\n",
              "      display:flex;\n",
              "      flex-wrap:wrap;\n",
              "      gap: 12px;\n",
              "    }\n",
              "\n",
              "    .colab-df-convert {\n",
              "      background-color: #E8F0FE;\n",
              "      border: none;\n",
              "      border-radius: 50%;\n",
              "      cursor: pointer;\n",
              "      display: none;\n",
              "      fill: #1967D2;\n",
              "      height: 32px;\n",
              "      padding: 0 0 0 0;\n",
              "      width: 32px;\n",
              "    }\n",
              "\n",
              "    .colab-df-convert:hover {\n",
              "      background-color: #E2EBFA;\n",
              "      box-shadow: 0px 1px 2px rgba(60, 64, 67, 0.3), 0px 1px 3px 1px rgba(60, 64, 67, 0.15);\n",
              "      fill: #174EA6;\n",
              "    }\n",
              "\n",
              "    [theme=dark] .colab-df-convert {\n",
              "      background-color: #3B4455;\n",
              "      fill: #D2E3FC;\n",
              "    }\n",
              "\n",
              "    [theme=dark] .colab-df-convert:hover {\n",
              "      background-color: #434B5C;\n",
              "      box-shadow: 0px 1px 3px 1px rgba(0, 0, 0, 0.15);\n",
              "      filter: drop-shadow(0px 1px 2px rgba(0, 0, 0, 0.3));\n",
              "      fill: #FFFFFF;\n",
              "    }\n",
              "  </style>\n",
              "\n",
              "      <script>\n",
              "        const buttonEl =\n",
              "          document.querySelector('#df-1f3e4bdb-6084-4185-9a38-799fdb0a87a1 button.colab-df-convert');\n",
              "        buttonEl.style.display =\n",
              "          google.colab.kernel.accessAllowed ? 'block' : 'none';\n",
              "\n",
              "        async function convertToInteractive(key) {\n",
              "          const element = document.querySelector('#df-1f3e4bdb-6084-4185-9a38-799fdb0a87a1');\n",
              "          const dataTable =\n",
              "            await google.colab.kernel.invokeFunction('convertToInteractive',\n",
              "                                                     [key], {});\n",
              "          if (!dataTable) return;\n",
              "\n",
              "          const docLinkHtml = 'Like what you see? Visit the ' +\n",
              "            '<a target=\"_blank\" href=https://colab.research.google.com/notebooks/data_table.ipynb>data table notebook</a>'\n",
              "            + ' to learn more about interactive tables.';\n",
              "          element.innerHTML = '';\n",
              "          dataTable['output_type'] = 'display_data';\n",
              "          await google.colab.output.renderOutput(dataTable, element);\n",
              "          const docLink = document.createElement('div');\n",
              "          docLink.innerHTML = docLinkHtml;\n",
              "          element.appendChild(docLink);\n",
              "        }\n",
              "      </script>\n",
              "    </div>\n",
              "  </div>\n",
              "  "
            ],
            "text/plain": [
              "   col1  col2\n",
              "0     1     3\n",
              "1     2     4"
            ]
          },
          "metadata": {},
          "execution_count": 5
        }
      ]
    },
    {
      "cell_type": "markdown",
      "source": [
        "Disable automatic interactive Data Table view"
      ],
      "metadata": {
        "id": "IBMMwgBmBdcz"
      }
    },
    {
      "cell_type": "code",
      "source": [
        "# Disable interactive explorer\n",
        "from google.colab import data_table\n",
        "data_table.disable_dataframe_formatter()"
      ],
      "metadata": {
        "id": "4mdl-f80BcqA"
      },
      "execution_count": 6,
      "outputs": []
    },
    {
      "cell_type": "code",
      "source": [
        "df"
      ],
      "metadata": {
        "colab": {
          "base_uri": "https://localhost:8080/",
          "height": 112
        },
        "id": "oPYKqjIqCrg7",
        "outputId": "61af1b4e-1709-4e32-f940-9b1d4c02e17a"
      },
      "execution_count": 7,
      "outputs": [
        {
          "output_type": "execute_result",
          "data": {
            "text/html": [
              "\n",
              "  <div id=\"df-467c4bf9-148a-4b41-9c10-be6d6ce83fee\">\n",
              "    <div class=\"colab-df-container\">\n",
              "      <div>\n",
              "<style scoped>\n",
              "    .dataframe tbody tr th:only-of-type {\n",
              "        vertical-align: middle;\n",
              "    }\n",
              "\n",
              "    .dataframe tbody tr th {\n",
              "        vertical-align: top;\n",
              "    }\n",
              "\n",
              "    .dataframe thead th {\n",
              "        text-align: right;\n",
              "    }\n",
              "</style>\n",
              "<table border=\"1\" class=\"dataframe\">\n",
              "  <thead>\n",
              "    <tr style=\"text-align: right;\">\n",
              "      <th></th>\n",
              "      <th>col1</th>\n",
              "      <th>col2</th>\n",
              "    </tr>\n",
              "  </thead>\n",
              "  <tbody>\n",
              "    <tr>\n",
              "      <th>0</th>\n",
              "      <td>1</td>\n",
              "      <td>3</td>\n",
              "    </tr>\n",
              "    <tr>\n",
              "      <th>1</th>\n",
              "      <td>2</td>\n",
              "      <td>4</td>\n",
              "    </tr>\n",
              "  </tbody>\n",
              "</table>\n",
              "</div>\n",
              "      <button class=\"colab-df-convert\" onclick=\"convertToInteractive('df-467c4bf9-148a-4b41-9c10-be6d6ce83fee')\"\n",
              "              title=\"Convert this dataframe to an interactive table.\"\n",
              "              style=\"display:none;\">\n",
              "        \n",
              "  <svg xmlns=\"http://www.w3.org/2000/svg\" height=\"24px\"viewBox=\"0 0 24 24\"\n",
              "       width=\"24px\">\n",
              "    <path d=\"M0 0h24v24H0V0z\" fill=\"none\"/>\n",
              "    <path d=\"M18.56 5.44l.94 2.06.94-2.06 2.06-.94-2.06-.94-.94-2.06-.94 2.06-2.06.94zm-11 1L8.5 8.5l.94-2.06 2.06-.94-2.06-.94L8.5 2.5l-.94 2.06-2.06.94zm10 10l.94 2.06.94-2.06 2.06-.94-2.06-.94-.94-2.06-.94 2.06-2.06.94z\"/><path d=\"M17.41 7.96l-1.37-1.37c-.4-.4-.92-.59-1.43-.59-.52 0-1.04.2-1.43.59L10.3 9.45l-7.72 7.72c-.78.78-.78 2.05 0 2.83L4 21.41c.39.39.9.59 1.41.59.51 0 1.02-.2 1.41-.59l7.78-7.78 2.81-2.81c.8-.78.8-2.07 0-2.86zM5.41 20L4 18.59l7.72-7.72 1.47 1.35L5.41 20z\"/>\n",
              "  </svg>\n",
              "      </button>\n",
              "      \n",
              "  <style>\n",
              "    .colab-df-container {\n",
              "      display:flex;\n",
              "      flex-wrap:wrap;\n",
              "      gap: 12px;\n",
              "    }\n",
              "\n",
              "    .colab-df-convert {\n",
              "      background-color: #E8F0FE;\n",
              "      border: none;\n",
              "      border-radius: 50%;\n",
              "      cursor: pointer;\n",
              "      display: none;\n",
              "      fill: #1967D2;\n",
              "      height: 32px;\n",
              "      padding: 0 0 0 0;\n",
              "      width: 32px;\n",
              "    }\n",
              "\n",
              "    .colab-df-convert:hover {\n",
              "      background-color: #E2EBFA;\n",
              "      box-shadow: 0px 1px 2px rgba(60, 64, 67, 0.3), 0px 1px 3px 1px rgba(60, 64, 67, 0.15);\n",
              "      fill: #174EA6;\n",
              "    }\n",
              "\n",
              "    [theme=dark] .colab-df-convert {\n",
              "      background-color: #3B4455;\n",
              "      fill: #D2E3FC;\n",
              "    }\n",
              "\n",
              "    [theme=dark] .colab-df-convert:hover {\n",
              "      background-color: #434B5C;\n",
              "      box-shadow: 0px 1px 3px 1px rgba(0, 0, 0, 0.15);\n",
              "      filter: drop-shadow(0px 1px 2px rgba(0, 0, 0, 0.3));\n",
              "      fill: #FFFFFF;\n",
              "    }\n",
              "  </style>\n",
              "\n",
              "      <script>\n",
              "        const buttonEl =\n",
              "          document.querySelector('#df-467c4bf9-148a-4b41-9c10-be6d6ce83fee button.colab-df-convert');\n",
              "        buttonEl.style.display =\n",
              "          google.colab.kernel.accessAllowed ? 'block' : 'none';\n",
              "\n",
              "        async function convertToInteractive(key) {\n",
              "          const element = document.querySelector('#df-467c4bf9-148a-4b41-9c10-be6d6ce83fee');\n",
              "          const dataTable =\n",
              "            await google.colab.kernel.invokeFunction('convertToInteractive',\n",
              "                                                     [key], {});\n",
              "          if (!dataTable) return;\n",
              "\n",
              "          const docLinkHtml = 'Like what you see? Visit the ' +\n",
              "            '<a target=\"_blank\" href=https://colab.research.google.com/notebooks/data_table.ipynb>data table notebook</a>'\n",
              "            + ' to learn more about interactive tables.';\n",
              "          element.innerHTML = '';\n",
              "          dataTable['output_type'] = 'display_data';\n",
              "          await google.colab.output.renderOutput(dataTable, element);\n",
              "          const docLink = document.createElement('div');\n",
              "          docLink.innerHTML = docLinkHtml;\n",
              "          element.appendChild(docLink);\n",
              "        }\n",
              "      </script>\n",
              "    </div>\n",
              "  </div>\n",
              "  "
            ],
            "text/plain": [
              "   col1  col2\n",
              "0     1     3\n",
              "1     2     4"
            ]
          },
          "metadata": {},
          "execution_count": 7
        }
      ]
    }
  ]
}