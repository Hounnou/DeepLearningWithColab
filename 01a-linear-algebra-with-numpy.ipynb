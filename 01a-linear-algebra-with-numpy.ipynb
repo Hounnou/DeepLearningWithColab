{
  "nbformat": 4,
  "nbformat_minor": 0,
  "metadata": {
    "celltoolbar": "Slideshow",
    "kernelspec": {
      "display_name": "Python 3",
      "language": "python",
      "name": "python3"
    },
    "language_info": {
      "codemirror_mode": {
        "name": "ipython",
        "version": 3
      },
      "file_extension": ".py",
      "mimetype": "text/x-python",
      "name": "python",
      "nbconvert_exporter": "python",
      "pygments_lexer": "ipython3",
      "version": "3.7.0"
    },
    "colab": {
      "name": "01a-linear-algebra-with-numpy.ipynb",
      "provenance": [],
      "collapsed_sections": [],
      "toc_visible": true,
      "include_colab_link": true
    }
  },
  "cells": [
    {
      "cell_type": "markdown",
      "metadata": {
        "id": "view-in-github",
        "colab_type": "text"
      },
      "source": [
        "<a href=\"https://colab.research.google.com/github/fdluiuc/lecture-notebooks/blob/master/01a-linear-algebra-with-numpy.ipynb\" target=\"_parent\"><img src=\"https://colab.research.google.com/assets/colab-badge.svg\" alt=\"Open In Colab\"/></a>"
      ]
    },
    {
      "cell_type": "markdown",
      "metadata": {
        "id": "ylpJ4uLa82RQ"
      },
      "source": [
        "# Overview \n",
        "\n",
        "Within this notebook, we introduce different linear algebra operations in Python using the [NumPy library](https://numpy.org/). NumPy is advantageous to use for its numerical stability and access to lower-level matrix operations through a Basic Linear Algebra Subprograms (BLAS). \n",
        "\n",
        "For more details, please see NumPy's documentation:\n",
        "\n",
        "- <https://numpy.org/doc/stable/reference/index.html>\n",
        "\n",
        "For help with writing in the MathJax flavor of $\\LaTeX$, please see: \n",
        "\n",
        "- <https://math.meta.stackexchange.com/questions/5020/mathjax-basic-tutorial-and-quick-reference>"
      ]
    },
    {
      "cell_type": "markdown",
      "metadata": {
        "id": "gYEZIY6WeWb5"
      },
      "source": [
        "### (Hidden) LaTeX command preamble \n",
        "\n",
        "$$\n",
        "% Define a bordermatrix with top and left-oriented labels\n",
        "\\newcommand{lbordermatrix}[3]{\n",
        "  \\begin{matrix} & \\begin{matrix} #1 \\end{matrix} \\\\\n",
        "  \\begin{matrix} #2 \\end{matrix} \n",
        "  \\hspace{-1em} & #3 \n",
        "  \\end{matrix}\n",
        "}\n",
        "% Define a dependency on the color package for MathJax to load it\n",
        "\\require{color} \n",
        "% Add macro commands for matrix coloring\n",
        "\\newcommand{\\highlightcolor}[2]{\\colorbox{#1}{$\\displaystyle #2$}}\n",
        "\\newcommand{\\highlightcol}[1]{\\colorbox{yellow}{$\\displaystyle #1$}}\n",
        "\\newcommand{\\highlightrow}[1]{\\colorbox{lightblue}{$\\displaystyle #1$}}\n",
        "% Experimental highlighting with CSS thrown in.\n",
        "\\newcommand{\\highlightbb}[1]{\\bbox[orange,5px,border:2px solid red]{#1}}\n",
        "$$\n",
        "\n",
        "\n",
        "<!-- \n",
        "Misc: MathJax doesn't support \\bordermatrix, so we must embed a new command.\n",
        "c.f. https://github.com/mathjax/MathJax/issues/2031\n",
        " -->"
      ]
    },
    {
      "cell_type": "markdown",
      "metadata": {
        "id": "thekEd0k6qV6"
      },
      "source": [
        "## Diagnostics\n"
      ]
    },
    {
      "cell_type": "code",
      "metadata": {
        "cellView": "form",
        "colab": {
          "base_uri": "https://localhost:8080/"
        },
        "outputId": "32a5f8b1-791d-47cb-dcce-e969a30d2270",
        "id": "hyhCO_p2ZPtK"
      },
      "source": [
        "#@title (Hidden) Diagnostic Check\n",
        "import os\n",
        "import sys\n",
        "import pandas as pd\n",
        "import numpy as np\n",
        "%tensorflow_version 2.x\n",
        "import statsmodels \n",
        "import statsmodels.api as sm\n",
        "import statsmodels.formula.api as smf\n",
        "import matplotlib\n",
        "import matplotlib.pyplot as plt\n",
        "\n",
        "print(f\"\\nPython environment:\\n{sys.version}\")\n",
        "print(\"\\nStatistical packages loaded: \")\n",
        "print(f\"pandas: {pd.__version__}\")\n",
        "print(f\"numpy: {np.__version__}\")\n",
        "print(f\"statsmodels: {statsmodels.__version__}\")\n",
        "print(f\"matplotlib: {matplotlib.__version__}\")\n",
        "\n",
        "print(f\"\\nRuntime location:\")\n",
        "try:\n",
        "  from google.colab import drive\n",
        "  is_google_colab = True\n",
        "  print(\"Notebook is on Google CoLab\")\n",
        "except:\n",
        "  is_google_colab = False\n",
        "  print(\"Notebook is being run locally or through another source.\")\n"
      ],
      "execution_count": null,
      "outputs": [
        {
          "output_type": "stream",
          "name": "stdout",
          "text": [
            "\n",
            "Python environment:\n",
            "3.7.12 (default, Sep 10 2021, 00:21:48) \n",
            "[GCC 7.5.0]\n",
            "\n",
            "Statistical packages loaded: \n",
            "pandas: 1.1.5\n",
            "numpy: 1.19.5\n",
            "statsmodels: 0.10.2\n",
            "matplotlib: 3.2.2\n",
            "\n",
            "Runtime location:\n",
            "Notebook is on Google CoLab\n"
          ]
        }
      ]
    },
    {
      "cell_type": "markdown",
      "metadata": {
        "id": "LmrtKVB_iJn9"
      },
      "source": [
        "## Save a copy of this notebook!!\n",
        "\n",
        "Before we get started, it is crucially important that you **save a copy of the notebook** to your Google Drive! Please go to: \n",
        "\n",
        "```\n",
        "File -> Save a Copy in Drive\n",
        "```\n",
        "\n"
      ]
    },
    {
      "cell_type": "markdown",
      "metadata": {
        "id": "ThzX5DmppIfT"
      },
      "source": [
        "![google-colab-save-in-drive-reduced.png](data:image/png;base64,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)"
      ]
    },
    {
      "cell_type": "markdown",
      "metadata": {
        "id": "UDfMKO06idvj"
      },
      "source": [
        "**If you _forget_ to save a copy of the notebook, all of your work will be lost when you close out of Google Colab.**"
      ]
    },
    {
      "cell_type": "markdown",
      "metadata": {
        "id": "vDwz-KgX8w0D"
      },
      "source": [
        "# Linear algebra"
      ]
    },
    {
      "cell_type": "markdown",
      "metadata": {
        "id": "ukRMYc419Sah"
      },
      "source": [
        "To begin, we note that NumPy is an external package. Thus, we'll load the `NumPy` package under the namespace `np`."
      ]
    },
    {
      "cell_type": "code",
      "metadata": {
        "ExecuteTime": {
          "end_time": "2019-01-22T06:59:37.697347Z",
          "start_time": "2019-01-22T06:59:36.344203Z"
        },
        "id": "KbNSLq0_8w0J"
      },
      "source": [
        "import numpy as np"
      ],
      "execution_count": null,
      "outputs": []
    },
    {
      "cell_type": "markdown",
      "metadata": {
        "id": "LE-jIHESAM0O"
      },
      "source": [
        "From here, we'll look at: \n",
        "\n",
        "- **Scalars:** A single number\n",
        "- **Vectors:** An array of numbers\n",
        "- **Matrices:** A two dimensional (2D) array of numbers. \n",
        "- **Tensors:** An _p_-dimensional array with $p > 2$.\n"
      ]
    },
    {
      "cell_type": "markdown",
      "metadata": {
        "id": "ZOQB0A8V8w0K"
      },
      "source": [
        "## Scalars\n",
        "\n",
        "Scalar values represent a single value. In practice, this would be saying:\n",
        "\n",
        "$$a = 1$$\n",
        "\n",
        "Scalars can take on many different types:\n",
        "\n",
        "- boolean: `True` or `False`\n",
        "- integers or whole numbers: -42, -1, 0, 5, 32\n",
        "- double, float, or decimal numbers: -1.2, 0.0, .66666, 3.14\n",
        "\n",
        "For an extended overview of different data types for NumPy's scalar support please see: <https://numpy.org/doc/stable/user/basics.types.html>\n",
        "\n"
      ]
    },
    {
      "cell_type": "markdown",
      "metadata": {
        "id": "MVz2fO9bJxgJ"
      },
      "source": [
        "### Working with Scalars in NumPy\n",
        "\n",
        "Let's try different algebraic operations with two integer values or whole numbers, $x$ and $y$:"
      ]
    },
    {
      "cell_type": "code",
      "metadata": {
        "ExecuteTime": {
          "end_time": "2019-01-22T06:59:37.723391Z",
          "start_time": "2019-01-22T06:59:37.701297Z"
        },
        "colab": {
          "base_uri": "https://localhost:8080/"
        },
        "id": "fsN3Lusm8w0K",
        "outputId": "935c408a-e816-4a9c-e7ff-44762c99f52e"
      },
      "source": [
        "# Integers\n",
        "x = np.int64(2)\n",
        "y = np.int64(3)\n",
        "\n",
        "print('x + y = ', x + y)\n",
        "print('x * y = ', x * y)\n",
        "print('x / y = ', x / y)\n",
        "print('x ** y = ', np.power(x,y))"
      ],
      "execution_count": null,
      "outputs": [
        {
          "output_type": "stream",
          "text": [
            "x + y =  5\n",
            "x * y =  6\n",
            "x / y =  0.6666666666666666\n",
            "x ** y =  8\n"
          ],
          "name": "stdout"
        }
      ]
    },
    {
      "cell_type": "markdown",
      "metadata": {
        "id": "N3IsusAS-TYE"
      },
      "source": [
        "What if we had a decimal number? "
      ]
    },
    {
      "cell_type": "code",
      "metadata": {
        "colab": {
          "base_uri": "https://localhost:8080/"
        },
        "id": "kpfUpj1q-SKq",
        "outputId": "53af108c-c93c-4f2d-da19-1e484a04d63c"
      },
      "source": [
        "# Doubles\n",
        "x = np.float64(1.1)\n",
        "y = np.float64(2.5)\n",
        "\n",
        "print('x + y = ', x + y)\n",
        "print('x * y = ', x * y)\n",
        "print('x / y = ', x / y)\n",
        "print('x ** y = ', np.power(x,y))"
      ],
      "execution_count": null,
      "outputs": [
        {
          "output_type": "stream",
          "text": [
            "x + y =  3.6\n",
            "x * y =  2.75\n",
            "x / y =  0.44000000000000006\n",
            "x ** y =  1.2690587062858836\n"
          ],
          "name": "stdout"
        }
      ]
    },
    {
      "cell_type": "markdown",
      "metadata": {
        "id": "yRrY6A438w0M"
      },
      "source": [
        "How could you tell if a NumPy object was scalar? Check if the object's:\n",
        "\n",
        "1. Dimensions are 0\n",
        "1. Size is 1\n",
        "1. Shape is an empty tuple, e.g. `()`."
      ]
    },
    {
      "cell_type": "code",
      "metadata": {
        "ExecuteTime": {
          "end_time": "2019-01-22T06:59:37.743361Z",
          "start_time": "2019-01-22T06:59:37.728689Z"
        },
        "colab": {
          "base_uri": "https://localhost:8080/"
        },
        "id": "Dk7prK8G8w0N",
        "outputId": "e0bab99e-219d-4cf5-f793-4afde5315c90"
      },
      "source": [
        "# Sample of a single scalar value\n",
        "a = np.int64(1)\n",
        "\n",
        "# Number of Dimensions\n",
        "a.ndim"
      ],
      "execution_count": null,
      "outputs": [
        {
          "output_type": "execute_result",
          "data": {
            "text/plain": [
              "0"
            ]
          },
          "metadata": {
            "tags": []
          },
          "execution_count": 5
        }
      ]
    },
    {
      "cell_type": "code",
      "metadata": {
        "colab": {
          "base_uri": "https://localhost:8080/"
        },
        "id": "wxPspO64_z3l",
        "outputId": "5884f150-464c-4534-ed14-5a26e752b2d3"
      },
      "source": [
        "# Number of Elements\n",
        "a.size "
      ],
      "execution_count": null,
      "outputs": [
        {
          "output_type": "execute_result",
          "data": {
            "text/plain": [
              "1"
            ]
          },
          "metadata": {
            "tags": []
          },
          "execution_count": 6
        }
      ]
    },
    {
      "cell_type": "code",
      "metadata": {
        "colab": {
          "base_uri": "https://localhost:8080/"
        },
        "id": "Id1-PgfD_0vD",
        "outputId": "3eef1b38-3f87-49fb-864f-644ee18d6890"
      },
      "source": [
        "# See tuple of Array Dimensions\n",
        "a.shape"
      ],
      "execution_count": null,
      "outputs": [
        {
          "output_type": "execute_result",
          "data": {
            "text/plain": [
              "()"
            ]
          },
          "metadata": {
            "tags": []
          },
          "execution_count": 7
        }
      ]
    },
    {
      "cell_type": "markdown",
      "metadata": {
        "id": "YJ2MUL9Z8w0N"
      },
      "source": [
        "## Vectors\n",
        "\n",
        "Vectors are arrays of numbers e.g.\n",
        "\n",
        "$$\\mathbf{x}_{n \\times 1} = \\begin{bmatrix} x_1 \\\\ x_2 \\\\ \\cdots \\\\ x_n \\end{bmatrix}_{n \\times 1}$$\n",
        "\n",
        "Depending on the dimensions of the vector, it can either be **row** or **column**-based. This can be determined by looking at dimensions of the vector. Frequently, the dimensions will be written as a subscript next to\n",
        "the name of the vector variable. \n",
        "\n",
        "For instance, the original example would be a **column** vector.\n",
        "\n",
        "In the case of a _row_ vector, we would need: \n",
        "\n",
        "$$\\mathbf{x}_{1 \\times n} = \\begin{bmatrix} x_1 & x_2 & \\cdots & x_n \\end{bmatrix}_{1 \\times n}$$\n",
        "\n",
        "As an example, consider the collection of numbers given as $1, 2, 3, 4$.\n",
        "\n",
        "They could be arrange as either:\n",
        "\n",
        "$$\\begin{align}\n",
        "\\mathbf{x}_{4 \\times 1} &= \\begin{bmatrix} 1 \\\\ 2 \\\\ 3 \\\\ 4 \\end{bmatrix}_{4 \\times 1} \\\\\n",
        "&\\text{Or} \\\\\n",
        "\\mathbf{x}_{1 \\times 4} &= \\begin{bmatrix} 1 & 2 & 3 & 4 \\end{bmatrix}_{4 \\times 1}\n",
        "\\end{align}$$\n",
        "\n",
        "\n"
      ]
    },
    {
      "cell_type": "markdown",
      "metadata": {
        "id": "CaD9XpYeIWGB"
      },
      "source": [
        "### Vectors in NumPy\n",
        "\n",
        "If they are implemented in NumPy, we would have:\n"
      ]
    },
    {
      "cell_type": "code",
      "metadata": {
        "colab": {
          "base_uri": "https://localhost:8080/"
        },
        "id": "PB3Wtpb8BXaD",
        "outputId": "b2975491-6c00-480d-8118-eff88256b6cb"
      },
      "source": [
        "x = np.array([[1], [2], [3], [4]])\n",
        "print(f\"x is a column vector with dimensions {x.shape} and elements:\\n {x}\")"
      ],
      "execution_count": null,
      "outputs": [
        {
          "output_type": "stream",
          "text": [
            "x is a column vector with dimensions (4, 1) and elements:\n",
            " [[1]\n",
            " [2]\n",
            " [3]\n",
            " [4]]\n"
          ],
          "name": "stdout"
        }
      ]
    },
    {
      "cell_type": "markdown",
      "metadata": {
        "id": "jXaRiZIIVEpF"
      },
      "source": [
        "**Note:** In this format, each element (or row) is denoted by square brackets, e.g.`[]` around the value. These elements are then grouped together by another square bracket, e.g. `[[1], [2]]` gives `[[1], [2]]`.\n",
        "\n",
        "Next, we consider the **row-vector** format: "
      ]
    },
    {
      "cell_type": "code",
      "metadata": {
        "colab": {
          "base_uri": "https://localhost:8080/"
        },
        "id": "Q0MxFS2gC0HQ",
        "outputId": "d347d591-ff7b-4581-8fba-178631795540"
      },
      "source": [
        "x = np.array([1, 2, 3, 4])\n",
        "print(f\"x is a row vector with dimensions {x.shape} and elements:\\n {x}\")"
      ],
      "execution_count": null,
      "outputs": [
        {
          "output_type": "stream",
          "text": [
            "x is a row vector with dimensions (4,) and elements:\n",
            " [1 2 3 4]\n"
          ],
          "name": "stdout"
        }
      ]
    },
    {
      "cell_type": "markdown",
      "metadata": {
        "id": "V7Z4Jpv5EaNE"
      },
      "source": [
        "What? Why isn't NumPy adding a second dimension in comparison to the column-vector? \n",
        "\n",
        "**Short version:** Only one \"view\"/set of indices is required to describe elements in a row-vector as it is mainly a collection of elements. Meanwhile, in a column-vector there are\n",
        "two sets of indices required to describe the row and the column location of an element despite the column location being fixed to 1. "
      ]
    },
    {
      "cell_type": "markdown",
      "metadata": {
        "id": "wwwU2F3MHZDk"
      },
      "source": [
        "Sometimes this property is desirable. Other times, one would seek to create a new view that has two indices. This is possible using the [`.reshape()`](https://numpy.org/doc/stable/reference/generated/numpy.reshape.html) method."
      ]
    },
    {
      "cell_type": "code",
      "metadata": {
        "colab": {
          "base_uri": "https://localhost:8080/"
        },
        "id": "Nj_UGFZPGbhS",
        "outputId": "036aafdb-ffab-47fe-c35a-690614197611"
      },
      "source": [
        "y = x.reshape((1, x.shape[0]))\n",
        "print(f\"y is a row vector with dimensions {y.shape} and elements:\\n {y}\")"
      ],
      "execution_count": null,
      "outputs": [
        {
          "output_type": "stream",
          "text": [
            "y is a row vector with dimensions (1, 4) and elements:\n",
            " [[1 2 3 4]]\n"
          ],
          "name": "stdout"
        }
      ]
    },
    {
      "cell_type": "markdown",
      "metadata": {
        "id": "OOy29XWdHkgn"
      },
      "source": [
        "**Note:** `y` now has two dimensions and as such displays elements surrounded by double brackets, e.g. `[[ ]]`, which indicate two indices are now present. "
      ]
    },
    {
      "cell_type": "markdown",
      "metadata": {
        "id": "5o2Kw-9BIM7X"
      },
      "source": [
        "### Accessing a single vector-value.\n",
        "\n",
        "Recall that Python uses a zero-based indexing system. Thus, we have indices setup as:\n",
        "\n",
        "```\n",
        "index =     0    1    2    3    \n",
        "         ┌────┬────┬────┬────┐\n",
        "    x =  │  2 │  4 │  9 │  5 │\n",
        "         └────┴────┴────┴────┘\n",
        "```\n",
        "\n",
        "So, to retrieve the third-value, we would need to use `2` as the position. \n"
      ]
    },
    {
      "cell_type": "code",
      "metadata": {
        "colab": {
          "base_uri": "https://localhost:8080/"
        },
        "id": "pRNzCYdFILrs",
        "outputId": "a92a475c-b553-4cd3-83d1-a9f6e7f57022"
      },
      "source": [
        "# Create a series of vectors\n",
        "x = np.array([2, 4, 9, 5])\n",
        "\n",
        "# Retrieve third value\n",
        "x_3 = x[2]\n",
        "\n",
        "print(f\"Third value of x is {x_3}\")"
      ],
      "execution_count": null,
      "outputs": [
        {
          "output_type": "stream",
          "text": [
            "Third value of x is 9\n"
          ],
          "name": "stdout"
        }
      ]
    },
    {
      "cell_type": "markdown",
      "metadata": {
        "id": "TFuP1Eh9NNoH"
      },
      "source": [
        "To access the first element, we would use `0`:"
      ]
    },
    {
      "cell_type": "code",
      "metadata": {
        "colab": {
          "base_uri": "https://localhost:8080/"
        },
        "id": "aaWPMMlWNFZs",
        "outputId": "5b63678c-c504-47a8-ae1b-a10bd895a424"
      },
      "source": [
        "# Retrieve first value in the vector\n",
        "x_1 = x[0]\n",
        "\n",
        "print(f\"First value of x is {x_1}\")"
      ],
      "execution_count": null,
      "outputs": [
        {
          "output_type": "stream",
          "text": [
            "First value of x is 2\n"
          ],
          "name": "stdout"
        }
      ]
    },
    {
      "cell_type": "markdown",
      "metadata": {
        "id": "xNxdglGvUUFu"
      },
      "source": [
        "#### Your Turn: Vector Access\n",
        "\n",
        "Consider a vector with $m$ values. How could one retrieve the last value?"
      ]
    },
    {
      "cell_type": "code",
      "metadata": {
        "id": "Lw0NDskfZxEf"
      },
      "source": [
        "## code here"
      ],
      "execution_count": null,
      "outputs": []
    },
    {
      "cell_type": "markdown",
      "metadata": {
        "id": "SUEJs07UJ7ng"
      },
      "source": [
        "### Creating Ranges or Sequences\n",
        "\n",
        "Frequently, you may wish to create a series of increasing values. Generally, constructing such a vector by-hand can be problematic."
      ]
    },
    {
      "cell_type": "code",
      "metadata": {
        "ExecuteTime": {
          "end_time": "2019-01-22T06:59:37.759425Z",
          "start_time": "2019-01-22T06:59:37.748844Z"
        },
        "colab": {
          "base_uri": "https://localhost:8080/"
        },
        "id": "UhmEXPBv8w0N",
        "outputId": "5c615d90-4a1a-4b17-a1b2-8612d4df52e7"
      },
      "source": [
        "x = np.arange(4) + 1\n",
        "print(f\"x = {x}\") \n",
        "\n",
        "# equivalent to\n",
        "y = np.array([1, 2, 3, 4])\n",
        "print(f\"y = {y}\")"
      ],
      "execution_count": null,
      "outputs": [
        {
          "output_type": "stream",
          "text": [
            "x = [1 2 3 4]\n",
            "y = [1 2 3 4]\n"
          ],
          "name": "stdout"
        }
      ]
    },
    {
      "cell_type": "markdown",
      "metadata": {
        "id": "v0q_C6ulKO_w"
      },
      "source": [
        "#### Your Turn: Matching indices\n",
        "\n",
        "Why was the plus 1 (`+ 1`) added after `np.arange(4)`? \n"
      ]
    },
    {
      "cell_type": "code",
      "metadata": {
        "id": "j_3-Rv5WSaax"
      },
      "source": [
        "## code here"
      ],
      "execution_count": null,
      "outputs": []
    },
    {
      "cell_type": "markdown",
      "metadata": {
        "id": "5jdRehHF8w0O"
      },
      "source": [
        "### Element-wise algebraic operations \n"
      ]
    },
    {
      "cell_type": "markdown",
      "metadata": {
        "id": "4KgaADy68w0P"
      },
      "source": [
        "Vectors have a nice property of being able to _apply_ a mathematical operations\n",
        "across all elements in a succient manner. \n",
        "We'll see later that this enables faster operations through parallelization (or perform actions simultaneously instead of one-after-another). For now, note that\n",
        "standard operations are possible on an element-wise basis or the same location in each vector is operated on. Let's examine some possible \"a x plus y\" (\"AXPY\") operations.\n",
        "\n",
        "For instance, we have element-wise addition: \n",
        "\n",
        "\n",
        "$$\\begin{align}\n",
        "\\mathbf{x}_{4 \\times 1} &= \\begin{bmatrix} 1 \\\\ 2 \\\\ 3 \\\\ 4 \\end{bmatrix}_{4 \\times 1}, \\mathbf{y}_{4 \\times 1} = \\begin{bmatrix} 5 \\\\ 6 \\\\ 7 \\\\ 8 \\end{bmatrix}_{4 \\times 1} \\\\ \n",
        "\\mathbf{x}_{4 \\times 1} + \\mathbf{y}_{4 \\times 1} &= \\begin{bmatrix} 1 \\\\ 2 \\\\ 3 \\\\ 4 \\end{bmatrix}_{4 \\times 1} + \\begin{bmatrix} 5 \\\\ 6 \\\\ 7 \\\\ 8 \\end{bmatrix}_{4 \\times 1} = \\begin{bmatrix} 1 + 5 \\\\ 2 + 6 \\\\ 3 + 7 \\\\ 4 + 8 \\end{bmatrix}_{4 \\times 1} = \\begin{bmatrix} 6 \\\\ 8 \\\\ 10 \\\\ 12 \\end{bmatrix}_{4 \\times 1} \\\\ \n",
        "\\end{align}$$\n",
        "\n",
        "\n",
        "In the case of a scalar-vector multiplication, one would have:\n",
        "\n",
        "$$\\begin{align}\n",
        "a &= 3 \\\\\n",
        "a \\mathbf{x}_{4 \\times 1} &= a\\begin{bmatrix} 1 \\\\ 2 \\\\ 3 \\\\ 4 \\end{bmatrix}_{4 \\times 1} = \\begin{bmatrix} a \\\\ 2a \\\\ 3a \\\\ 4a \\end{bmatrix}_{4 \\times 1} = \\begin{bmatrix} 3 \\\\ 6 \\\\ 9 \\\\ 12 \\end{bmatrix}_{4 \\times 1} \\\\\n",
        "\\end{align}$$\n",
        "\n",
        "Lastly, we can perform subtraction in an \"a x plus y\" (\"AXPY\") operation with:\n",
        "\n",
        "$$\\begin{align}\n",
        "a &= -1 \\\\\n",
        "a \\mathbf{x}_{4 \\times 1} + \\mathbf{y}_{4 \\times 1} &= (-1)\\begin{bmatrix} 1 \\\\ 2 \\\\ 3 \\\\ 4 \\end{bmatrix}_{4 \\times 1} + \\begin{bmatrix} 5 \\\\ 6 \\\\ 7 \\\\ 8 \\end{bmatrix}_{4 \\times 1} = \\begin{bmatrix} -1 + 5 \\\\ -2 + 6 \\\\ -3 + 7 \\\\ -4 + 8 \\end{bmatrix}_{4 \\times 1} = \\begin{bmatrix} 4 \\\\ 4 \\\\ 4 \\\\ 4 \\end{bmatrix}_{4 \\times 1} \\\\ \n",
        "\\end{align}$$\n",
        "\n",
        "\n"
      ]
    },
    {
      "cell_type": "code",
      "metadata": {
        "ExecuteTime": {
          "end_time": "2019-01-22T06:59:37.819085Z",
          "start_time": "2019-01-22T06:59:37.806667Z"
        },
        "colab": {
          "base_uri": "https://localhost:8080/"
        },
        "id": "a5iRS2sy8w0P",
        "outputId": "b83469d3-ba43-4a2b-931b-334ada41f188"
      },
      "source": [
        "a = 3\n",
        "x = np.arange(4) + 1\n",
        "print(f\"x has:\\n {x}\")\n",
        "y = np.arange(5, 9, 1)\n",
        "print(f\"y has:\\n {y}\")\n",
        "\n",
        "print(f\"a * x: \\n {a * x}\")\n",
        "\n",
        "a = -1\n",
        "print(f\"a * x + y: \\n {a * x + y}\")"
      ],
      "execution_count": null,
      "outputs": [
        {
          "output_type": "stream",
          "text": [
            "x has:\n",
            " [1 2 3 4]\n",
            "y has:\n",
            " [5 6 7 8]\n",
            "a * x: \n",
            " [ 3  6  9 12]\n",
            "a * x + y: \n",
            " [4 4 4 4]\n"
          ],
          "name": "stdout"
        }
      ]
    },
    {
      "cell_type": "markdown",
      "metadata": {
        "id": "ogmEb4ICKyyn"
      },
      "source": [
        "### Transposition\n",
        "\n",
        "Taking the transpose of a vector will change it shape. Fundamentally, the transpose of a row vector is a column vector and vice versa.\n",
        "\n",
        "Consider: \n",
        "\n",
        "$$\n",
        "\\begin{align}\n",
        "\\mathbf{x}_{1 \\times n} &= \\begin{bmatrix}\n",
        "x_1 & x_2 & \\cdots & x_n\n",
        "\\end{bmatrix}_{1 \\times n} \\\\\n",
        "&\\text{Taking the tranpose} \\\\\n",
        "\\mathbf{x}^T_{n \\times 1} &= \\begin{bmatrix}\n",
        "x_1 \\\\ x_2 \\\\ \\cdots \\\\ x_n\n",
        "\\end{bmatrix}_{n \\times 1}\n",
        "\\end{align}\n",
        "$$\n"
      ]
    },
    {
      "cell_type": "code",
      "metadata": {
        "colab": {
          "base_uri": "https://localhost:8080/"
        },
        "id": "9tVT7_g2K59z",
        "outputId": "77f660c1-361a-48f6-9906-847208f1647d"
      },
      "source": [
        "# Construct a 2D vector sequence\n",
        "x = np.arange(1, 5, 1)[np.newaxis]\n",
        "print(f\"x: \\n {x} \\n\")\n",
        "\n",
        "# Take the tranpose\n",
        "x_tranpose = x.T\n",
        "print(f\"x_tranpose: \\n {x_tranpose} \\n\")\n",
        "\n",
        "# Observe shape dimension\n",
        "print(f\"x shape is {x.shape} and x_tranpose shape is {x_tranpose.shape}\")"
      ],
      "execution_count": null,
      "outputs": [
        {
          "output_type": "stream",
          "text": [
            "x: \n",
            " [[1 2 3 4]] \n",
            "\n",
            "x_tranpose: \n",
            " [[1]\n",
            " [2]\n",
            " [3]\n",
            " [4]] \n",
            "\n",
            "x shape is (1, 4) and x_tranpose shape is (4, 1)\n"
          ],
          "name": "stdout"
        }
      ]
    },
    {
      "cell_type": "markdown",
      "metadata": {
        "id": "hs6SraoFO_sg"
      },
      "source": [
        "**Note:** `[np.newaxis]` adds a second index without having to use `.reshape()`. "
      ]
    },
    {
      "cell_type": "markdown",
      "metadata": {
        "id": "lZ3Q7Hfv8w0P"
      },
      "source": [
        "## Matrices\n",
        "\n",
        "Matrices consist of a series of vectors aligned either by orientation (row or column) to form a two-dimensional (2D) object. \n",
        "\n",
        "In the matrix $\\mathbf{A}$, we have the entry $a_{ij}$ representing the $i$-th row and $j$-th column. In a 1-based indexing system, we have:\n",
        "\n",
        "\n",
        "$$\\mathbf{A} = \n",
        "\\begin{bmatrix}\n",
        " a_{11} & a_{12} & \\cdots & a_{1m} \\\\\n",
        " a_{21} & a_{22} & \\cdots & a_{2m} \\\\\n",
        "\\vdots & \\vdots & \\ddots & \\vdots \\\\\n",
        " a_{n1} & a_{n2} & \\cdots & a_{nm} \\\\\n",
        "\\end{bmatrix}_{n \\times m}\n",
        "$$\n",
        "\n",
        "However, the indexes here are not representative of the 0-based indexing system in Python. Instead, each index value must be 1 less from both the desired row and column.\n",
        "\n",
        "$$\n",
        "\\mathbf{A}_{4 \\times 4} = \\lbordermatrix{\n",
        "  % columns\n",
        "  \\hphantom{{0}}0\\hphantom{{00}} & \n",
        "  1\\hphantom{{00}} & \n",
        "  2\\hphantom{{00}} & \n",
        "  3\\hphantom{{00}}\n",
        "}{0 \\\\ 1 \\\\ 2 \\\\ 3}{\n",
        "  \\begin{bmatrix} \n",
        "   a_{00} & a_{01} & a_{02} & a_{03} \\\\\n",
        "   a_{10} & a_{11} & a_{12} & a_{13} \\\\ \n",
        "   a_{20} & a_{21} & a_{22} & a_{23} \\\\\n",
        "   a_{30} & a_{31} & a_{32} & a_{33} \n",
        "  \\end{bmatrix}\n",
        "}_{4 \\times 4}\n",
        "$$\n",
        "\n",
        "**Note:** $a_{11}$ would be found at $a_{00}$ in NumPy.\n",
        "\n",
        "Having said this, we consider all matrix entries be operating in the real numberspace, e.g. $a_{ij} \\in \\mathbb{R}^{n \\times m}$."
      ]
    },
    {
      "cell_type": "markdown",
      "metadata": {
        "id": "uE0j_n69H9SQ"
      },
      "source": [
        "### Matrices in NumPy\n",
        "\n",
        "NumPy offers `np.array()` and `np.matrix()` to construct 2-dimensional matrices. Even when constructing matrices, the preferred approach is to use `np.array()` with appropriate square brackets setting columns and rows. \n",
        "\n",
        "**Note:** `np.matrix()` is scheduled to be [removed in the future](https://numpy.org/doc/stable/reference/generated/numpy.matrix.html)."
      ]
    },
    {
      "cell_type": "markdown",
      "metadata": {
        "id": "Kl8ExDf5I6Zm"
      },
      "source": [
        "Matrices are constructed by first using a set of square brackets, e.g. `[]`, to denote the matrix. From there, the matrix is constructed by systematically adding rows grouped together by square brackets. Consider the following matrix:\n",
        "\n",
        "$$\\mathbf{A} = \n",
        "\\begin{bmatrix}\n",
        " 1 & 2 & 3 \\\\\n",
        " 4 & 5 & 6 \\\\\n",
        "\\end{bmatrix}_{2 \\times 3}\n",
        "$$\n",
        "\n",
        "This could be created with:"
      ]
    },
    {
      "cell_type": "code",
      "metadata": {
        "colab": {
          "base_uri": "https://localhost:8080/"
        },
        "id": "GqjOqtSoKNdo",
        "outputId": "0ba3795e-3949-41bc-da25-1e7771c6e8a0"
      },
      "source": [
        "A = np.array(\n",
        "    [           # Start matrix\n",
        "     [1, 2, 3], # Row 1\n",
        "     [4, 5, 6]  # Row 2\n",
        "    ]           # End matrix\n",
        "  )\n",
        "print(f\"Matrix A looks like:\\n {A}\")"
      ],
      "execution_count": null,
      "outputs": [
        {
          "output_type": "stream",
          "text": [
            "Matrix A looks like:\n",
            " [[1 2 3]\n",
            " [4 5 6]]\n"
          ],
          "name": "stdout"
        }
      ]
    },
    {
      "cell_type": "markdown",
      "metadata": {
        "id": "bsz3Fbc0Il4G"
      },
      "source": [
        "When testing code, constructing matrices with ranges set to specific dimensions is useful. In this case, the `.reshape()` method enables a 1D vector from `np.arange()` to be structured in a two-dimensional view. "
      ]
    },
    {
      "cell_type": "code",
      "metadata": {
        "ExecuteTime": {
          "end_time": "2019-01-22T06:59:37.845855Z",
          "start_time": "2019-01-22T06:59:37.832911Z"
        },
        "colab": {
          "base_uri": "https://localhost:8080/"
        },
        "id": "6oWUafhY8w0Q",
        "outputId": "2a32ea0d-9cb6-46fd-e3b7-8d3ccb38550b"
      },
      "source": [
        "# Long way\n",
        "A = np.array(\n",
        "    [                     # Start matrix\n",
        "     [0, 1, 2, 3, 4],     # Row 1\n",
        "     [5, 6, 7, 8, 9],     # Row 2\n",
        "     [10, 11, 12, 13, 14],# Row 3\n",
        "     [15, 16, 17, 18, 19] # Row 4\n",
        "    ]                     # End matrix\n",
        "  )\n",
        "print(f\"Matrix A looks like:\\n {A}\\n\")\n",
        "\n",
        "# Concise way\n",
        "A = np.arange(20).reshape((4,5))\n",
        "print(f\"Matrix A generated by reshaping:\\n {A}\")"
      ],
      "execution_count": null,
      "outputs": [
        {
          "output_type": "stream",
          "text": [
            "Matrix A looks like:\n",
            " [[ 0  1  2  3  4]\n",
            " [ 5  6  7  8  9]\n",
            " [10 11 12 13 14]\n",
            " [15 16 17 18 19]]\n",
            "\n",
            "Matrix A generated by reshaping:\n",
            " [[ 0  1  2  3  4]\n",
            " [ 5  6  7  8  9]\n",
            " [10 11 12 13 14]\n",
            " [15 16 17 18 19]]\n"
          ],
          "name": "stdout"
        }
      ]
    },
    {
      "cell_type": "markdown",
      "metadata": {
        "id": "6JXsRrJHKicb"
      },
      "source": [
        "### Creating Special Matrices (ones, zeros, random values, ...)\n",
        "\n",
        "There are times when matrices should be filled with specific values for all elements. For those cases, consider using:\n",
        "\n",
        "- `np.ones()` for a vector of ones.\n",
        "- `np.zeros()` for a vector of zeros.\n",
        "\n",
        "Each function takes either a single integer to generate a vector or a **tuple** containing the dimensions of the matrix. For instance, `(3, 2)` would generate a matrix with 3 rows and 2 columns."
      ]
    },
    {
      "cell_type": "code",
      "metadata": {
        "ExecuteTime": {
          "end_time": "2019-01-22T06:59:37.790373Z",
          "start_time": "2019-01-22T06:59:37.765817Z"
        },
        "colab": {
          "base_uri": "https://localhost:8080/"
        },
        "id": "6qwjyi4h8w0O",
        "outputId": "3ee6184d-3da1-459d-a2e0-cf0fb53eb226"
      },
      "source": [
        "W_matrix = np.ones((3, 2))\n",
        "print(f\"W_matrix of ones:\\n{W_matrix}\\n\")\n",
        "\n",
        "x_vec = np.ones(3)\n",
        "print(f\"x_vec of ones: {x_vec}\\n\")\n",
        "\n",
        "Y_matrix = np.zeros((3, 2))\n",
        "print(f\"Y_matrix of zeros:\\n{Y_matrix}\\n\")\n",
        "\n",
        "z_vec = np.zeros(3)\n",
        "print(f\"z_vec of zeros: {z_vec}\")"
      ],
      "execution_count": null,
      "outputs": [
        {
          "output_type": "stream",
          "text": [
            "W_matrix of ones:\n",
            "[[1. 1.]\n",
            " [1. 1.]\n",
            " [1. 1.]]\n",
            "\n",
            "x_vec of ones: [1. 1. 1.]\n",
            "\n",
            "Y_matrix of zeros:\n",
            "[[0. 0.]\n",
            " [0. 0.]\n",
            " [0. 0.]]\n",
            "\n",
            "z_vec of zeros: [0. 0. 0.]\n"
          ],
          "name": "stdout"
        }
      ]
    },
    {
      "cell_type": "markdown",
      "metadata": {
        "id": "tzfawj0uRODI"
      },
      "source": [
        "For random values, consider using: \n",
        "\n",
        "- [`np.random.randint()`](https://numpy.org/doc/stable/reference/random/generated/numpy.random.randint.html): for a vector of random integers.\n",
        "- [`np.random.rand()`](https://numpy.org/doc/stable/reference/random/generated/numpy.random.rand.html) for a vector of random samples from a Uniform distribution, `u ~ U[0, 1]`.\n",
        "- [`np.random.randn()`](https://numpy.org/doc/stable/reference/random/generated/numpy.random.randn.html): for a vector of random samples from a standard Normal distribution, `Z ~ N[0, 1]`.\n",
        "\n",
        "To ensure reproducible random numbers, make sure to set a seed using [`np.random.seed(a_number_here)`](https://numpy.org/doc/stable/reference/random/generated/numpy.random.seed.html).\n",
        "\n",
        "Unlike the prior functions, these functions require each dimension to be written as a function parameter. So, to generate a 2 x 5 matrix, one would use:\n",
        "`np.random.randfunction(2, 5)`.\n"
      ]
    },
    {
      "cell_type": "markdown",
      "metadata": {
        "id": "7L8HozXoTHcd"
      },
      "source": [
        "Sample random integers"
      ]
    },
    {
      "cell_type": "code",
      "metadata": {
        "colab": {
          "base_uri": "https://localhost:8080/"
        },
        "id": "nrhQLhXJTG-L",
        "outputId": "b95dcf2e-6d1b-4e23-f436-3b2aae3a03dd"
      },
      "source": [
        "# Set a seed for reproducibility\n",
        "np.random.seed(341)\n",
        "\n",
        "# Sample a random sequence\n",
        "v_1 = np.random.randint(10, size = 5)\n",
        "print(f\"v_1 = \\n {v_1} \\n\")\n",
        "\n",
        "# Sample with a different seed\n",
        "np.random.seed(1512)\n",
        "v_2 = np.random.randint(10, size = 5)\n",
        "print(f\"v_2 = \\n {v_2} \\n\")\n",
        "\n",
        "# Sample with the same seed\n",
        "np.random.seed(1512)\n",
        "v_3 = np.random.randint(10, size = 5)\n",
        "print(f\"v_3 = \\n {v_3} \\n\")"
      ],
      "execution_count": null,
      "outputs": [
        {
          "output_type": "stream",
          "text": [
            "v_1 = \n",
            " [3 5 3 7 2] \n",
            "\n",
            "v_2 = \n",
            " [1 1 5 1 7] \n",
            "\n",
            "v_3 = \n",
            " [1 1 5 1 7] \n",
            "\n"
          ],
          "name": "stdout"
        }
      ]
    },
    {
      "cell_type": "markdown",
      "metadata": {
        "id": "ZPTg3E3fTxwp"
      },
      "source": [
        "Sample from a uniform distribution. "
      ]
    },
    {
      "cell_type": "code",
      "metadata": {
        "colab": {
          "base_uri": "https://localhost:8080/"
        },
        "id": "zfAXVrl8T03x",
        "outputId": "d820bc84-6a6a-48c5-883d-22880f6191ac"
      },
      "source": [
        "# Set a seed for reproducibility\n",
        "np.random.seed(341)\n",
        "\n",
        "# Sample from a Uniform Distribution, e.g. u ~ U[0, 1]\n",
        "u = np.random.rand(5)\n",
        "print(f\"u ~ U[0, 1]: \\n {u}\\n\")\n",
        "\n",
        "# Sample from a Uniform Distribution, e.g. u ~ U[0, 1]\n",
        "u_mat = np.random.rand(3, 2)\n",
        "print(f\"u_mat ~ U[0, 1]: \\n {u_mat}\")"
      ],
      "execution_count": null,
      "outputs": [
        {
          "output_type": "stream",
          "text": [
            "u ~ U[0, 1]: \n",
            " [0.2651669  0.92647858 0.72987223 0.93945584 0.81705294]\n",
            "\n",
            "u_mat ~ U[0, 1]: \n",
            " [[0.80915501 0.07984923]\n",
            " [0.03411085 0.16149582]\n",
            " [0.85389694 0.45250823]]\n"
          ],
          "name": "stdout"
        }
      ]
    },
    {
      "cell_type": "markdown",
      "metadata": {
        "id": "Q-6q8mGkTFlK"
      },
      "source": [
        "Sample from Normal Distribution"
      ]
    },
    {
      "cell_type": "code",
      "metadata": {
        "colab": {
          "base_uri": "https://localhost:8080/"
        },
        "id": "S924N4kHRRQC",
        "outputId": "1fb2800f-d2d6-456e-dcb4-31e331b9479a"
      },
      "source": [
        "# Set a seed for reproducibility\n",
        "np.random.seed(1337)\n",
        "\n",
        "# Sample from a standard Normal distribution, e.g. x ~ N(0, 1)\n",
        "z = np.random.randn(5)\n",
        "print(f\"z ~ N(0, 1) = \\n {z} \\n\")\n",
        "\n",
        "# Sample from a Normal distribution with mean 3 and standard deviation 2\n",
        "# e.g. x ~ N(mu, sigma^2)\n",
        "mu = 3\n",
        "sigma = 2\n",
        "x = sigma * np.random.randn(5) + mu\n",
        "print(f\"x ~ N({mu}, {sigma}^2) = \\n {x}\")"
      ],
      "execution_count": null,
      "outputs": [
        {
          "output_type": "stream",
          "text": [
            "z ~ N(0, 1) = \n",
            " [-0.70318731 -0.49028236 -0.32181433 -1.75507872  0.20666447] \n",
            "\n",
            "x ~ N(3, 2^2) = \n",
            " [-1.02252915  1.88549858  3.67443402  6.09767194  0.25852688]\n"
          ],
          "name": "stdout"
        }
      ]
    },
    {
      "cell_type": "markdown",
      "metadata": {
        "id": "y4-7YXucPUfM"
      },
      "source": [
        "Be careful which random number function is being used! "
      ]
    },
    {
      "cell_type": "code",
      "metadata": {
        "colab": {
          "base_uri": "https://localhost:8080/",
          "height": 241
        },
        "id": "t72W4Mj7PUFs",
        "outputId": "4b9db99a-0167-44f2-b6ef-5526e22987eb"
      },
      "source": [
        "# Enable plots in notebook\n",
        "%matplotlib inline\n",
        "\n",
        "# Import plotting library\n",
        "import matplotlib.pyplot as plt\n",
        "\n",
        "# Retrieve color maps\n",
        "from matplotlib import cm\n",
        "\n",
        "# Set seed for reproducibility\n",
        "np.random.seed(3151)\n",
        "\n",
        "# Simulate data\n",
        "normal_data = np.random.randn(30, 30)*np.sqrt(2)\n",
        "uniform_data = np.random.rand(30, 30)\n",
        "\n",
        "# Combine\n",
        "simulated_data = [normal_data, uniform_data]\n",
        "plot_titles = ['X ~ N(0, 2)', 'u ~ U[0, 1]']\n",
        "\n",
        "# Generate plot\n",
        "fig, axs = plt.subplots(1, 2, figsize=(6, 3), constrained_layout = True)\n",
        "for [ax, title, data] in zip(axs, plot_titles, simulated_data):\n",
        "  # Heatmap of simulated data by coordinate\n",
        "  psm = ax.pcolormesh(data, cmap = cm.get_cmap('viridis', 256),\n",
        "                      rasterized = True, vmin = -4, vmax = 4)\n",
        "  ax.set_title(title)\n",
        "  # Attach color bar\n",
        "  fig.colorbar(psm, ax = ax)\n",
        "plt.show()"
      ],
      "execution_count": null,
      "outputs": [
        {
          "output_type": "display_data",
          "data": {
            "image/png": "[encoded data removed]",
            "text/plain": [
              "<Figure size 432x216 with 4 Axes>"
            ]
          },
          "metadata": {
            "tags": [],
            "needs_background": "light"
          }
        }
      ]
    },
    {
      "cell_type": "markdown",
      "metadata": {
        "id": "nZeu1NTYVeVV"
      },
      "source": [
        "### Accessing Matrix Values in a Contiguous Manner\n",
        "\n",
        "Consider the following matrix: \n",
        "\n",
        "$$\\mathbf{A}_{4 \\times 4} = \\begin{bmatrix}\n",
        " 1 & 5 &  9 & 13 \\\\\n",
        " 2 & 6 & 10 & 14 \\\\\n",
        " 3 & 7 & 11 & 15 \\\\\n",
        " 4 & 8 & 12 & 16\n",
        "\\end{bmatrix}_{4 \\times 4}$$\n"
      ]
    },
    {
      "cell_type": "markdown",
      "metadata": {
        "id": "Xp6v-EJsZ9jd"
      },
      "source": [
        "#### Single-value retrieval \n",
        "\n",
        "Elements in $\\mathbf{A}$ are able to be retrieved by specifying row $i$ and column $j$. Requesting an element at a specific row and column location, requires: **`M[row, column]`**.  \n",
        "\n",
        "For example, accessing element $a_{0, 1}$ in a zero-based index matrix would give $5$, e.g. \n",
        "\n",
        "$$\n",
        "\\mathbf{A}_{4 \\times 4} = \\lbordermatrix{\n",
        "  % columns\n",
        "  0 & \n",
        "  1 & \n",
        "  \\hphantom{{0}}2 & \n",
        "  \\hphantom{{0}}3\\hphantom{{0}}\n",
        "  }{0 \\\\ 1 \\\\ 2 \\\\ 3}{\n",
        "  \\begin{bmatrix} \n",
        "  1&\\color{red}{5}&9&13 \\\\\n",
        "   2 & 6 & 10 & 14 \\\\ \n",
        "   3 & 7 & 11 & 15 \\\\\n",
        "   4 & 8 & 12 & 16 \n",
        "  \\end{bmatrix}\n",
        "}_{4 \\times 4}\n",
        "$$\n",
        "\n",
        "<!-- Old matrix setup, slightly off.\n",
        "$$\\begin{matrix}\n",
        "&\\begin{matrix}0 & 1 & 2 & 3\\end{matrix} \\\\\n",
        "\\begin{matrix}0\\\\ 1 \\\\ 2 \\\\ 3 \\end{matrix} & \n",
        "\\begin{bmatrix}\n",
        " 1 & \\color{red}{5} &  9 & 13 \\\\\n",
        " 2 & 6 & 10 & 14 \\\\\n",
        " 3 & 7 & 11 & 15 \\\\\n",
        " 4 & 8 & 12 & 16\n",
        "\\end{bmatrix}_{4 \\times 4}\n",
        "\\end{matrix}$$ -->\n"
      ]
    },
    {
      "cell_type": "code",
      "metadata": {
        "colab": {
          "base_uri": "https://localhost:8080/"
        },
        "id": "KNB2rlwNWZf_",
        "outputId": "db0e9ba3-6704-4f90-a4f5-e16569d0e25b"
      },
      "source": [
        "A = (np.arange(16) + 1).reshape((4, 4)).T\n",
        "print(f\"Matrix A looks like: \\n {A} \\n\")\n",
        "\n",
        "# Recall, we need to use zero-based indexing\n",
        "a_ij = A[0, 1]\n",
        "print(f\"At row 1 and column 2, the element a_{1,2} = {a_ij}\")"
      ],
      "execution_count": null,
      "outputs": [
        {
          "output_type": "stream",
          "text": [
            "Matrix A looks like: \n",
            " [[ 1  5  9 13]\n",
            " [ 2  6 10 14]\n",
            " [ 3  7 11 15]\n",
            " [ 4  8 12 16]] \n",
            "\n",
            "At row 1 and column 2, the element a_(1, 2) = 5\n"
          ],
          "name": "stdout"
        }
      ]
    },
    {
      "cell_type": "markdown",
      "metadata": {
        "id": "Zl_UDUiQYQTY"
      },
      "source": [
        "#### Row retrieval \n",
        "\n",
        "Retrieving an entire row is possible with **`M[row, :]`** or **`M[row, ]`**. \n",
        "For the second index, either `:` or a blank entry will result in the entire index being selected. \n",
        "\n",
        "To retrieve the first row from A, we would use `A[0, :]` or `A[0,]`\n",
        "\n",
        "$$\n",
        "\\mathbf{A}_{4 \\times 4} = \\lbordermatrix{\n",
        "  % columns\n",
        "  0 & \n",
        "  1 & \n",
        "  \\hphantom{{0}}2 & \n",
        "  \\hphantom{{0}}3\\hphantom{{0}}\n",
        "  }{0 \\\\ 1 \\\\ 2 \\\\ 3}{\n",
        "  \\begin{bmatrix} \n",
        "   \\color{red}{1} & \\color{red}{5} & \\color{red}{9} & \\color{red}{13} \\\\\n",
        "   2 & 6 & 10 & 14 \\\\ \n",
        "   3 & 7 & 11 & 15 \\\\\n",
        "   4 & 8 & 12 & 16 \n",
        "  \\end{bmatrix}\n",
        "}_{4 \\times 4}\n",
        "$$\n",
        "\n",
        "**Note:**  The colon (`:`) operator refers to slicing or creating a subset of the original object. For more details, see [NumPy's indexing section](https://numpy.org/doc/stable/reference/arrays.indexing.html)."
      ]
    },
    {
      "cell_type": "code",
      "metadata": {
        "colab": {
          "base_uri": "https://localhost:8080/"
        },
        "id": "Sd_1Jz1sijlV",
        "outputId": "d3af4e22-06b8-4261-e31b-d783ab2bed9e"
      },
      "source": [
        "A = (np.arange(16) + 1).reshape((4, 4)).T\n",
        "print(f\"Matrix A looks like: \\n {A} \\n\")\n",
        "\n",
        "# Recall, we need to use zero-based indexing\n",
        "A_0j = A[0, :]\n",
        "print(f\"Obtaining values in row 1 with a colon in the column location results in A_{{0,j}} = \\n {A_0j}\")\n",
        "A_0j_blank = A[0, ]\n",
        "print(f\"Obtaining values in row 1 with a blank column index gives A_{{0,j}} = \\n {A_0j_blank}\")"
      ],
      "execution_count": null,
      "outputs": [
        {
          "output_type": "stream",
          "text": [
            "Matrix A looks like: \n",
            " [[ 1  5  9 13]\n",
            " [ 2  6 10 14]\n",
            " [ 3  7 11 15]\n",
            " [ 4  8 12 16]] \n",
            "\n",
            "Obtaining values in row 1 with a colon in the column location results in A_{0,j} = \n",
            " [ 1  5  9 13]\n",
            "Obtaining values in row 1 with a blank column index gives A_{0,j} = \n",
            " [ 1  5  9 13]\n"
          ],
          "name": "stdout"
        }
      ]
    },
    {
      "cell_type": "markdown",
      "metadata": {
        "id": "XzV6Owa6kbFe"
      },
      "source": [
        "#### Column retrieval \n",
        "\n",
        "Obtaining a single column would be given by using **`M[:, column]`**. \n",
        "\n",
        "To retrieve the fourth column from A, we would use `A[:, 3]`. \n",
        "\n",
        "$$\n",
        "\\mathbf{A}_{4 \\times 4} = \\lbordermatrix{\n",
        "  % columns\n",
        "  0 & \n",
        "  1 & \n",
        "  \\hphantom{{0}}2 & \n",
        "  \\hphantom{{0}}3\\hphantom{{0}}}{0 \\\\ 1 \\\\ 2 \\\\ 3}{\n",
        "  \\begin{bmatrix} \n",
        "   1 & 5 &  9 & \\color{red}{13} \\\\\n",
        "   2 & 6 & 10 & \\color{red}{14} \\\\ \n",
        "   3 & 7 & 11 & \\color{red}{15} \\\\\n",
        "   4 & 8 & 12 & \\color{red}{16} \n",
        "  \\end{bmatrix}\n",
        "}_{4 \\times 4}\n",
        "$$\n",
        "\n",
        "**Note:**  The colon (`:`) operator refers to slicing or creating a subset of the original object. For more details, see [NumPy's indexing section](https://numpy.org/doc/stable/reference/arrays.indexing.html)."
      ]
    },
    {
      "cell_type": "code",
      "metadata": {
        "colab": {
          "base_uri": "https://localhost:8080/"
        },
        "id": "uIvXKFBMkbFs",
        "outputId": "326013b1-73a5-40a5-bc2b-134689576a20"
      },
      "source": [
        "A = (np.arange(16) + 1).reshape((4, 4)).T\n",
        "print(f\"Matrix A looks like: \\n {A} \\n\")\n",
        "\n",
        "# Recall, we need to use zero-based indexing\n",
        "A_i3 = A[:, 3]\n",
        "print(f\"Retrieving values in column 1, gives A_{{i,3}} = \\n {A_i3} \\n\")\n",
        "print(f\"Shape of A_{{i,3}} is {A_i3.shape} \")"
      ],
      "execution_count": null,
      "outputs": [
        {
          "output_type": "stream",
          "text": [
            "Matrix A looks like: \n",
            " [[ 1  5  9 13]\n",
            " [ 2  6 10 14]\n",
            " [ 3  7 11 15]\n",
            " [ 4  8 12 16]] \n",
            "\n",
            "Retrieving values in column 1, gives A_{i,3} = \n",
            " [13 14 15 16] \n",
            "\n",
            "Shape of A_{i,3} is (4,) \n"
          ],
          "name": "stdout"
        }
      ]
    },
    {
      "cell_type": "markdown",
      "metadata": {
        "id": "sA2qngtZlqpr"
      },
      "source": [
        "When retrieving both rows and columsn, the dimension subset across is removed resulting in a one-dimensional vector."
      ]
    },
    {
      "cell_type": "markdown",
      "metadata": {
        "id": "2Hw2LKvVWf4W"
      },
      "source": [
        "#### Submatrix retrieval\n",
        "\n",
        "In the next subset operation, the goal is to retrieve a submatrix. Submatrices require one range for each index. Moreover, the indices here are given by $\\left[\\text{start}, \\text{stop}\\right)$ or $\\text{start} \\le x < \\text{stop}$. In this case, the start of the range is included and the end is excluded. As a result, when supplying the two different indices, make sure to add one to the end position of the position desired. Thus, a submatrix is accessible with: **`M[start_row:(stop_row + 1), start_col:(end_col+1)]`**. \n",
        "\n",
        "The colon operator is specified by `start:stop:increment`. If `increment` is not given, the default step size is 1. So, `0:3` would generate `0, 1, 2` and `0:4` would give `0, 1, 2, 3`. If the increment size changed to `2`, then `0:3:2` provides `0, 2` and `0:4:2` would yield `0, 2`.\n",
        "\n",
        "As an example, the submatrix defined by row 1 to row 2 and column 1 to column 2 would be obtained with: `A[1:3, 1:3]`. \n",
        "\n",
        "$$\n",
        "\\mathbf{A}_{4 \\times 4} = \\lbordermatrix{\n",
        "  % columns\n",
        "  0 & \n",
        "  1 & \n",
        "  \\hphantom{{0}}2 & \n",
        "  \\hphantom{{0}}3\\hphantom{{0}}\n",
        "  }{0 \\\\ 1 \\\\ 2 \\\\ 3}{\n",
        "  \\begin{bmatrix} \n",
        "   1 & 5 &  9 & 13 \\\\\n",
        "   2 & \\color{red}{6} & \\color{red}{10} & 14 \\\\ \n",
        "   3 & \\color{red}{7} & \\color{red}{11} & 15 \\\\\n",
        "   4 & 8 & 12 & 16 \n",
        "  \\end{bmatrix}\n",
        "}_{4 \\times 4}\n",
        "$$\n"
      ]
    },
    {
      "cell_type": "code",
      "metadata": {
        "colab": {
          "base_uri": "https://localhost:8080/"
        },
        "id": "SGrDoBSUXGgt",
        "outputId": "82c26025-6c48-43af-ff46-499847defa30"
      },
      "source": [
        "A = (np.arange(16) + 1).reshape((4, 4)).T\n",
        "print(f\"Matrix A looks like: \\n {A} \\n\")\n",
        "\n",
        "# Recall, we need to use zero-based indexing and one additional value\n",
        "A_inner = A[1:3, 1:3]\n",
        "print(f\"Retrieving values in Row 1 - 2 and Column 1 - 2, results in A_{{inner}} = \\n {A_inner} \\n\")\n",
        "print(f\"Shape of A_{{inner}} is {A_inner.shape} \")"
      ],
      "execution_count": null,
      "outputs": [
        {
          "output_type": "stream",
          "text": [
            "Matrix A looks like: \n",
            " [[ 1  5  9 13]\n",
            " [ 2  6 10 14]\n",
            " [ 3  7 11 15]\n",
            " [ 4  8 12 16]] \n",
            "\n",
            "Retrieving values in Row 1 - 2 and Column 1 - 2, results in A_{inner} = \n",
            " [[ 6 10]\n",
            " [ 7 11]] \n",
            "\n",
            "Shape of A_{inner} is (2, 2) \n"
          ],
          "name": "stdout"
        }
      ]
    },
    {
      "cell_type": "markdown",
      "metadata": {
        "id": "6EgV-vqFaIii"
      },
      "source": [
        "### Accessing Matrix Values in a Non-Contiguous Manner\n",
        "\n",
        "Unlike the prior section, the goal is to obtain elements that are not immediately next to each other. \n",
        "\n",
        "As an example, let's aim to obtain values only at the odd indices. This would give: `[(Row 1, Column 1), (Row 3, Column 1), (Row 1, Column 3), (Row 3, Column 3)]`. \n",
        "\n",
        "$$\n",
        "\\mathbf{A}_{4 \\times 4} = \\lbordermatrix{\n",
        "  % columns\n",
        "  0 & \n",
        "  1 & \n",
        "  \\hphantom{{0}}2 & \n",
        "  \\hphantom{{0}}3\\hphantom{{0}}\n",
        "  }{0 \\\\ 1 \\\\ 2 \\\\ 3}{\n",
        "  \\begin{bmatrix} \n",
        "   1 & 5 &  9 & 13 \\\\\n",
        "   2 & \\color{red}{6} & 10 & \\color{red}{14} \\\\ \n",
        "   3 & 7 & 11 & 15 \\\\\n",
        "   4 & \\color{red}{8} & 12 & \\color{red}{16} \n",
        "  \\end{bmatrix}\n",
        "}_{4 \\times 4}\n",
        "$$\n",
        "\n",
        "Non-contiguous views require equal coordinates for both row and column indices given in a **List** data structure.\n",
        "\n",
        "Another approach would be to use the colon/slice (`:`) operator previously shown to obtain a submatrix.  By default, the colon operator has an incremental step of 1, e.g. `start:stop:increment` Specifying the range `1:4` or `1:4:1` would result in: `1,2,3,4`. However, in the\n"
      ]
    },
    {
      "cell_type": "code",
      "metadata": {
        "colab": {
          "base_uri": "https://localhost:8080/"
        },
        "id": "tcqbCWnMduNy",
        "outputId": "c0eeed0e-c1c9-471c-b1f1-308d0e0c6feb"
      },
      "source": [
        "A = (np.arange(16) + 1).reshape((4, 4)).T\n",
        "print(f\"Matrix A looks like: \\n {A} \\n\")\n",
        "\n",
        "# Recall, we need to use zero-based indexing\n",
        "A_nc = A[(1, 3, 1, 3), (1, 1, 3, 3)]\n",
        "print(f\"Non-contiguous view of A_{{nc}} = \\n {A_nc} \\n\")\n",
        "print(f\"Shape of A_{{i,3}} is {A_nc.shape}\")"
      ],
      "execution_count": null,
      "outputs": [
        {
          "output_type": "stream",
          "text": [
            "Matrix A looks like: \n",
            " [[ 1  5  9 13]\n",
            " [ 2  6 10 14]\n",
            " [ 3  7 11 15]\n",
            " [ 4  8 12 16]] \n",
            "\n",
            "Non-contiguous view of A_{nc} = \n",
            " [ 6  8 14 16] \n",
            "\n",
            "Shape of A_{i,3} is (4,)\n"
          ],
          "name": "stdout"
        }
      ]
    },
    {
      "cell_type": "markdown",
      "metadata": {
        "id": "WnGuwNfRKlN5"
      },
      "source": [
        "\n",
        "\n",
        "### Transposing a Matrix\n",
        "\n"
      ]
    },
    {
      "cell_type": "markdown",
      "metadata": {
        "id": "S91xEUxv8w0Q"
      },
      "source": [
        "Transposition is the art of rotating the matrix's dimensions and contents. In particular, the operation is mathematically defined as $B = A^T$ when $b_{ij} = a_{ji}$ for any $i$ and $j$. We can transpose the matrix through `.T`.  As an example, consider:\n",
        "\n",
        "$$\n",
        "\\mathbf{A}_{2 \\times 2} = \\lbordermatrix{0 & 1}{0 \\\\ 1}{\n",
        "  \\begin{bmatrix} \n",
        "   \\color{blue}{1} & \\color{orange}{3} \\\\\n",
        "   \\color{pink}{2} & \\color{red}{4} \\\\\n",
        "  \\end{bmatrix}\n",
        "}_{2 \\times 2}\n",
        "$$\n",
        "\n",
        "The transpose of $\\mathbf{A}$ is then:\n",
        "\n",
        "$$\n",
        "\\mathbf{A}^T_{2 \\times 2} = \\lbordermatrix{0 & 1}{0 \\\\ 1}{\n",
        "  \\begin{bmatrix} \n",
        "   \\color{blue}{1} & \\color{pink}{2} \\\\\n",
        "   \\color{orange}{3} & \\color{red}{4} \\\\\n",
        "  \\end{bmatrix}\n",
        "}_{2 \\times 2} \n",
        "$$\n",
        "\n",
        "Till now, we've largely worked with square matrices, which have an equal number of rows as columns, $n = m$. This operation holds even if the number of columns and rows are not equal, $n \\neq m$. For example, we have:\n",
        "\n",
        "$$\n",
        "\\mathbf{B}_{2 \\times 3} = \\lbordermatrix{0 & 1 & 2}{0 \\\\ 1}{\n",
        "  \\begin{bmatrix} \n",
        "   \\color{blue}{1} & \\color{orange}{3} & \\color{yellow}{5} \\\\\n",
        "   \\color{pink}{2} & \\color{red}{4} & \\color{green}{6} \\\\\n",
        "  \\end{bmatrix}\n",
        "}_{2 \\times 3}\n",
        "$$\n",
        "\n",
        "The tranpose of $\\mathbf{B}$ would be: \n",
        "\n",
        "$$\n",
        "\\mathbf{B}^T_{3 \\times 2} = \\lbordermatrix{0 & 1}{0 \\\\ 1 \\\\ 2}{\n",
        "  \\begin{bmatrix} \n",
        "   \\color{blue}{1} & \\color{pink}{2} \\\\\n",
        "   \\color{orange}{3} & \\color{red}{4} \\\\\n",
        "   \\color{yellow}{5} & \\color{green}{6} \\\\\n",
        "  \\end{bmatrix}\n",
        "}_{3 \\times 2} \n",
        "$$\n"
      ]
    },
    {
      "cell_type": "code",
      "metadata": {
        "id": "4sX1qSeKKkj-",
        "colab": {
          "base_uri": "https://localhost:8080/"
        },
        "outputId": "5c7dece0-2ad9-43fd-d13b-84677785d48c"
      },
      "source": [
        "A = (np.arange(4) + 1).reshape((2, 2)).T\n",
        "print(f\"Matrix A looks like: \\n {A} \\n\")\n",
        "\n",
        "A_t = A.T\n",
        "print(f\"Matrix A tranposed looks like: \\n {A_t} \\n\")\n"
      ],
      "execution_count": null,
      "outputs": [
        {
          "output_type": "stream",
          "text": [
            "Matrix A looks like: \n",
            " [[1 3]\n",
            " [2 4]] \n",
            "\n",
            "Matrix A tranposed looks like: \n",
            " [[1 2]\n",
            " [3 4]] \n",
            "\n"
          ],
          "name": "stdout"
        }
      ]
    },
    {
      "cell_type": "code",
      "metadata": {
        "colab": {
          "base_uri": "https://localhost:8080/"
        },
        "id": "88DqfDzi1bmi",
        "outputId": "4cabd4c7-d298-4176-91c4-7e5cc4e95fdd"
      },
      "source": [
        "B = (np.arange(6) + 1).reshape((3, 2)).T\n",
        "print(f\"Matrix B looks like: \\n {B} \\n\")\n",
        "\n",
        "B_t = B.T\n",
        "print(f\"Matrix B tranposed looks like: \\n {B_t} \\n\")\n"
      ],
      "execution_count": null,
      "outputs": [
        {
          "output_type": "stream",
          "text": [
            "Matrix B looks like: \n",
            " [[1 3 5]\n",
            " [2 4 6]] \n",
            "\n",
            "Matrix B tranposed looks like: \n",
            " [[1 2]\n",
            " [3 4]\n",
            " [5 6]] \n",
            "\n"
          ],
          "name": "stdout"
        }
      ]
    },
    {
      "cell_type": "markdown",
      "metadata": {
        "id": "MCruxTGp8w0U"
      },
      "source": [
        "### Dot/Scalar/Inner Product\n",
        "\n",
        "The dot product (a.k.a scalar product or inner product) is defined as:\n",
        "\n",
        "$$\n",
        "\\langle \\mathbf{\\color{red}a}, \\mathbf{\\color{blue}b} \\rangle = \\mathbf{\\color{red}a}^T\\cdot\\mathbf{\\color{blue}b}=\\sum_{i=1}^n {\\color{red}a}_i{\\color{blue}b}_i={\\color{red}a}_1{\\color{blue}b}_1+{\\color{red}a}_2{\\color{blue}b}_2+\\cdots+{\\color{red}a}_n{\\color{blue}b}_n\n",
        "$$\n",
        "\n",
        "The dot product provides a summation over the product of two equal-length sequences of numbers. Under linear regression, the dot product is the action performed to obtain a _single_ prediction given a set of variables.\n",
        "\n",
        "$$\n",
        "\\langle \\mathbf{\\color{red}x}, \\mathbf{\\color{blue}\\beta} \\rangle = \\mathbf{\\color{red}x}^T \\mathbf{\\color{blue}\\beta} = \\sum_{p=1}^P {\\color{red}x}_i{\\color{blue}\\beta}_i={\\color{red}x}_1{\\color{blue}\\beta}_1+{\\color{red}x}_2{\\color{blue}\\beta}_2+\\cdots+{\\color{red}x}_p{\\color{blue}\\beta}_p\n",
        "$$\n"
      ]
    },
    {
      "cell_type": "markdown",
      "metadata": {
        "id": "BloIxucDRTE0"
      },
      "source": [
        "\n",
        "As a practical example, consider:\n",
        "\n",
        "$$\n",
        "\\begin{align}\n",
        "\\mathbf{\\color{red}a}^T_{1 \\times 3} = \n",
        "\\begin{bmatrix}\n",
        "\\color{red}{4} & \\color{red}{1} & \\color{red}{-3}\n",
        "\\end{bmatrix}_{1 \\times 3}&, \n",
        "\\mathbf{\\color{blue}b}_{3 \\times 1} = \n",
        " \\begin{bmatrix}\n",
        " \\color{blue}{5} \\\\ \n",
        " \\color{blue}{-2} \\\\ \n",
        " \\color{blue}{-8}\n",
        " \\end{bmatrix}_{3 \\times 1} \\\\\n",
        "\\mathbf{\\color{red}a}^T_{1 \\times 3} \\mathbf{\\color{blue}b}_{3 \\times 1} = \n",
        "%\n",
        "\\begin{bmatrix}\n",
        "  \\color{red}{4} &  \\color{red}{1} & \\color{red}{-3} \\\\\n",
        "\\end{bmatrix} \n",
        "%\n",
        "\\cdot \n",
        "%\n",
        " \\begin{bmatrix}\n",
        " \\color{blue}{5} \\\\ \n",
        " \\color{blue}{-2} \\\\ \n",
        " \\color{blue}{-8}\n",
        " \\end{bmatrix} &= \n",
        " (\\color{red}{4} \\times \\color{blue}{5}) + \n",
        " (\\color{red}{1} \\times \\color{blue}{-2}) + \n",
        " (\\color{red}{-3}\\times \\color{blue}{-8}) \\\\\n",
        "&= 20 - 2 + 24 \\\\\n",
        "&= 42\n",
        "\\end{align}\n",
        "$$"
      ]
    },
    {
      "cell_type": "code",
      "metadata": {
        "colab": {
          "base_uri": "https://localhost:8080/"
        },
        "id": "mlDJEULdKpKo",
        "outputId": "b08014a4-0683-4feb-d2db-14e9c4e92eaf"
      },
      "source": [
        "a = np.array([4, 1, -3]).T\n",
        "b = np.array([5, -2, -8])\n",
        "np.dot(a, b)"
      ],
      "execution_count": null,
      "outputs": [
        {
          "output_type": "execute_result",
          "data": {
            "text/plain": [
              "42"
            ]
          },
          "metadata": {
            "tags": []
          },
          "execution_count": 30
        }
      ]
    },
    {
      "cell_type": "markdown",
      "metadata": {
        "id": "QS0wZ_HGI81U"
      },
      "source": [
        "To further emphasize the summation over a product, consider what happens when one vector is filled with ones and the other is a linear sequence."
      ]
    },
    {
      "cell_type": "code",
      "metadata": {
        "ExecuteTime": {
          "end_time": "2019-01-22T06:59:37.947256Z",
          "start_time": "2019-01-22T06:59:37.936840Z"
        },
        "colab": {
          "base_uri": "https://localhost:8080/"
        },
        "id": "5GOCBjjc8w0U",
        "outputId": "7bccfc88-32f4-4858-8b53-967e238eb564"
      },
      "source": [
        "# Generate data\n",
        "x = np.arange(4) + 1\n",
        "y = np.ones(4)\n",
        "\n",
        "# Perform dot product\n",
        "dot_product = np.dot(x, y)\n",
        "\n",
        "# Show results\n",
        "print(f\"x = \\n{x}\\n\")\n",
        "print(f\"y = \\n{y}\\n\")\n",
        "print(f\"x.y = {dot_product}\")"
      ],
      "execution_count": null,
      "outputs": [
        {
          "output_type": "stream",
          "text": [
            "x = \n",
            "[1 2 3 4]\n",
            "\n",
            "y = \n",
            "[1. 1. 1. 1.]\n",
            "\n",
            "x.y = 10.0\n"
          ],
          "name": "stdout"
        }
      ]
    },
    {
      "cell_type": "markdown",
      "metadata": {
        "id": "2TSEYIa58w0U"
      },
      "source": [
        "The dot product may also be computed by performing an element-wise multiplication and, then, obtaining the sum. However, this approach is less efficient as it doesn't take advantage of BLAS features."
      ]
    },
    {
      "cell_type": "code",
      "metadata": {
        "ExecuteTime": {
          "end_time": "2019-01-22T06:59:37.958753Z",
          "start_time": "2019-01-22T06:59:37.950028Z"
        },
        "colab": {
          "base_uri": "https://localhost:8080/"
        },
        "id": "8QFKC8tO8w0V",
        "outputId": "d3f058c3-d85c-4a12-a507-c0123bbeaea9"
      },
      "source": [
        "np.sum(x * y)"
      ],
      "execution_count": null,
      "outputs": [
        {
          "output_type": "execute_result",
          "data": {
            "text/plain": [
              "10.0"
            ]
          },
          "metadata": {
            "tags": []
          },
          "execution_count": 32
        }
      ]
    },
    {
      "cell_type": "markdown",
      "metadata": {
        "id": "VAyRJWGN8w0V"
      },
      "source": [
        "### Matrix-vector Multiplication\n",
        "\n",
        "Consider the following matrix $A \\in \\mathbb{R}^{n \\times m}$ and vector $x \\in \\mathbb{R}^{m}$:\n",
        "\n",
        "$$\\mathbf{A}_{n \\times m} = \\begin{bmatrix}\n",
        " a_{11} & a_{12} & \\cdots & a_{1m} \\\\\n",
        " a_{21} & a_{22} & \\cdots & a_{2m} \\\\\n",
        "\\vdots & \\vdots & \\ddots & \\vdots \\\\\n",
        " a_{n1} & a_{n2} & \\cdots & a_{nm} \\\\\n",
        "\\end{bmatrix},\\quad\\mathbf{x}=\\begin{bmatrix}\n",
        " x_{1}  \\\\\n",
        " x_{2} \\\\\n",
        "\\vdots\\\\\n",
        " x_{m}\\\\\n",
        "\\end{bmatrix}_{m \\times 1} $$\n",
        "\n",
        "We can repeatitively use the dot product $n$ times for each row in the matrix to slowly build up the matrix-vector product. \n",
        "\n",
        "$$\\mathbf{A}_{n \\times m} \\mathbf{x}_{m \\times 1} =\n",
        "\\begin{bmatrix}\n",
        "\\cdots & \\mathbf{a}^T_{1} &...  \\\\\n",
        "\\cdots & \\mathbf{a}^T_{2} & \\cdots \\\\\n",
        " & \\vdots &  \\\\\n",
        " \\cdots &\\mathbf{a}^T_n & \\cdots \\\\\n",
        "\\end{bmatrix}_{n \\times m}\n",
        "\\begin{bmatrix}\n",
        " x_{1}  \\\\\n",
        " x_{2} \\\\\n",
        "\\vdots\\\\\n",
        " x_{m}\\\\\n",
        "\\end{bmatrix}_{m \\times 1}\n",
        "= \\begin{bmatrix}\n",
        " \\mathbf{a}^T_{1} \\mathbf{x}  \\\\\n",
        " \\mathbf{a}^T_{2} \\mathbf{x} \\\\\n",
        "\\vdots\\\\\n",
        " \\mathbf{a}^T_{n} \\mathbf{x}\\\\\n",
        "\\end{bmatrix}_{n \\times 1}\n",
        "$$\n",
        "\n",
        "We'll see the matrix-vector multplication occur frequently within dense neural networks when going from layer-to-layer.\n"
      ]
    },
    {
      "cell_type": "markdown",
      "metadata": {
        "id": "k3ro4epsSOnt"
      },
      "source": [
        "As an example, consider the following matrix and vector: \n",
        "\n",
        "$$\n",
        "\\mathbf{A}_{3 \\times 2} = \\begin{bmatrix}\n",
        " \\color{blue}{1} & \\color{blue}{4} \\\\\n",
        " \\color{orange}{2} & \\color{orange}{5} \\\\\n",
        " \\color{green}{3} & \\color{green}{6}  \\\\\n",
        "\\end{bmatrix}_{3 \\times 2},\\quad\\mathbf{x}_{2 \\times 1} = \\begin{bmatrix}\n",
        " \\color{purple}{7} \\\\\n",
        " \\color{purple}{8} \\\\\n",
        "\\end{bmatrix}_{2 \\times 1}$$\n",
        "\n",
        "Then, the matrix-vector product would be:\n",
        "$$\\mathbf{A}_{3 \\times 2}\\mathbf{x}_{2 \\times 1}=\n",
        "\\begin{bmatrix}\n",
        " \\color{blue}{1} & \\color{blue}{4} \\\\\n",
        " \\color{orange}{2} & \\color{orange}{5} \\\\\n",
        " \\color{green}{3} & \\color{green}{6}  \\\\\n",
        "\\end{bmatrix}_{3 \\times 2} \\begin{bmatrix}\n",
        " \\color{purple}{7} \\\\\n",
        " \\color{purple}{8} \\\\\n",
        "\\end{bmatrix}_{2 \\times 1}\n",
        "= \\begin{bmatrix}\n",
        " {\\color{blue}{1}} \\times {\\color{purple}{7}} + {\\color{blue}{4}} \\times {\\color{purple}{8}}  \\\\\n",
        " {\\color{orange}{2}} \\times {\\color{purple}{7}} + {\\color{orange}{5}} \\times {\\color{purple}{8}}  \\\\\n",
        " {\\color{green}{3}} \\times {\\color{purple}{7}} + {\\color{green}{6}} \\times {\\color{purple}{8}}  \\\\\n",
        "\\end{bmatrix} \n",
        "= \\begin{bmatrix}\n",
        " 39  \\\\\n",
        " 54  \\\\\n",
        " 69  \\\\\n",
        "\\end{bmatrix}\n",
        "$$"
      ]
    },
    {
      "cell_type": "code",
      "metadata": {
        "ExecuteTime": {
          "end_time": "2019-01-22T06:59:37.972681Z",
          "start_time": "2019-01-22T06:59:37.961622Z"
        },
        "colab": {
          "base_uri": "https://localhost:8080/"
        },
        "id": "2JzfADpT8w0V",
        "outputId": "a0c1dde3-f68b-4deb-86ac-b9139d6c7ebc"
      },
      "source": [
        "# Setup matrix and vector\n",
        "A = (np.arange(6) + 1).reshape((2, 3)).T\n",
        "x = (np.arange(2) + 7).reshape((2, 1))\n",
        "print(f\"A:\\n{A}\\n\")\n",
        "print(f\"x:\\n{x}\\n\")\n",
        "\n",
        "# Perform matrix-vector multiplication with dot\n",
        "matrix_vec_multiplication = np.dot(A, x)\n",
        "print(f\"Matrix-vector multiplication of Ax: \\n {matrix_vec_multiplication} \\n\")"
      ],
      "execution_count": null,
      "outputs": [
        {
          "output_type": "stream",
          "text": [
            "A:\n",
            "[[1 4]\n",
            " [2 5]\n",
            " [3 6]]\n",
            "\n",
            "x:\n",
            "[[7]\n",
            " [8]]\n",
            "\n",
            "Matrix-vector multiplication of Ax: \n",
            " [[39]\n",
            " [54]\n",
            " [69]] \n",
            "\n"
          ],
          "name": "stdout"
        }
      ]
    },
    {
      "cell_type": "markdown",
      "metadata": {
        "id": "fsylSTx58w0W"
      },
      "source": [
        "### Matrix-matrix multiplication\n",
        "\n",
        "Given two matrices, $A \\in \\mathbb{R}^{n \\times m}$ and $B \\in \\mathbb{R}^{m \\times p}$:\n",
        "\n",
        "$$A=\\begin{bmatrix}\n",
        " a_{11} & a_{12} & \\cdots & a_{1k} \\\\\n",
        " a_{21} & a_{22} & \\cdots & a_{2k} \\\\\n",
        "\\vdots & \\vdots & \\ddots & \\vdots \\\\\n",
        " a_{n1} & a_{n2} & \\cdots & a_{nk} \\\\\n",
        "\\end{bmatrix},\\quad\n",
        "B=\\begin{bmatrix}\n",
        " b_{11} & b_{12} & \\cdots & b_{1m} \\\\\n",
        " b_{21} & b_{22} & \\cdots & b_{2m} \\\\\n",
        "\\vdots & \\vdots & \\ddots & \\vdots \\\\\n",
        " b_{k1} & b_{k2} & \\cdots & b_{km} \\\\\n",
        "\\end{bmatrix}$$"
      ]
    },
    {
      "cell_type": "markdown",
      "metadata": {
        "id": "Sf1RV4AH8w0W"
      },
      "source": [
        "With the matrix-vector multiplication being an extension of the dot-product, we have matrix-matrix multiplication as an extension of the matrix-vector approach.\n",
        "As a result, the matrix-vector multiplication occurs $p$ times. Hence, we have an $m \\times p$ matrix as the final product.\n",
        "\n",
        "**Note:** The number of columns in $\\mathbf{A}$ must be equivalent to the number of rows in $\\mathbf{B}$. \n",
        "\n",
        "$$\\mathbf{A}_{n \\times m} \\mathbf{B}_{m \\times p} = \\begin{bmatrix}\n",
        "\\cdots & \\mathbf{a}^T_{1} & \\cdots  \\\\\n",
        "\\cdots & \\mathbf{a}^T_{2} & \\cdots \\\\\n",
        " & \\vdots &  \\\\\n",
        " \\cdots &\\mathbf{a}^T_m & \\cdots \\\\\n",
        "\\end{bmatrix}_{n \\times m}\n",
        "\\begin{bmatrix}\n",
        "\\vdots & \\vdots &  & \\vdots \\\\\n",
        " \\mathbf{b}_{1} & \\mathbf{b}_{2} & \\cdots & \\mathbf{b}_{p} \\\\\n",
        " \\vdots & \\vdots &  &\\vdots\\\\\n",
        "\\end{bmatrix}_{m \\times p}\n",
        "= \\begin{bmatrix}\n",
        "\\mathbf{a}^T_{1} \\mathbf{b}_1 & \\mathbf{a}^T_{1}\\mathbf{b}_2& \\cdots & \\mathbf{a}^T_{1} \\mathbf{b}_p \\\\\n",
        " \\mathbf{a}^T_{2}\\mathbf{b}_1 & \\mathbf{a}^T_{2} \\mathbf{b}_2 & \\cdots & \\mathbf{a}^T_{2} \\mathbf{b}_p \\\\\n",
        " \\vdots & \\vdots & \\ddots &\\vdots\\\\\n",
        "\\mathbf{a}^T_{m} \\mathbf{b}_1 & \\mathbf{a}^T_{m}\\mathbf{b}_2& \\cdots& \\mathbf{a}^T_{m} \\mathbf{b}_p\n",
        "\\end{bmatrix}_{m \\times p}\n",
        "$$\n",
        "\n",
        "Interesting way of looking at matrix-matrix multiplication no?\n"
      ]
    },
    {
      "cell_type": "markdown",
      "metadata": {
        "id": "xpDkL6mubF2d"
      },
      "source": [
        "As was the case in previous entries, let's take a look at the matrix-matrix multplication by adding a few numbers:\n",
        "\n",
        "\n",
        "$$\n",
        "\\mathbf{A}_{3 \\times 2} = \\begin{bmatrix}\n",
        " \\color{blue}{1} & \\color{blue}{4} \\\\\n",
        " \\color{orange}{2} & \\color{orange}{5} \\\\\n",
        " \\color{green}{3} & \\color{green}{6}  \\\\\n",
        "\\end{bmatrix}_{3 \\times 2},\\quad\\mathbf{B}_{2 \\times 2} = \\begin{bmatrix}\n",
        " \\color{purple}{7} & \\color{RedOrange}{9} \\\\\n",
        " \\color{purple}{8} & \\color{RedOrange}{10} \\\\\n",
        "\\end{bmatrix}_{2 \\times 2}$$\n",
        "\n",
        "Then, the matrix-matrix product would be:\n",
        "$$\\mathbf{A}_{3 \\times 2}\\mathbf{B}_{2 \\times 2}=\n",
        "\\begin{bmatrix}\n",
        " \\color{blue}{1} & \\color{blue}{4} \\\\\n",
        " \\color{orange}{2} & \\color{orange}{5} \\\\\n",
        " \\color{green}{3} & \\color{green}{6}  \\\\\n",
        "\\end{bmatrix}_{3 \\times 2} \\begin{bmatrix}\n",
        " \\color{purple}{7} & \\color{RedOrange}{9} \\\\\n",
        " \\color{purple}{8} & \\color{RedOrange}{10} \\\\\n",
        "\\end{bmatrix}_{2 \\times 2}\n",
        "= \\begin{bmatrix}\n",
        " {\\color{blue}{1}} \\times {\\color{purple}{7}} + {\\color{blue}{4}} \\times {\\color{purple}{8}} & {\\color{blue}{1}} \\times {\\color{RedOrange}{9}} + {\\color{blue}{4}} \\times {\\color{RedOrange}{10}}  \\\\\n",
        " {\\color{orange}{2}} \\times {\\color{purple}{7}} + {\\color{orange}{5}} \\times {\\color{purple}{8}} & {\\color{orange}{2}} \\times {\\color{RedOrange}{9}} + {\\color{orange}{5}} \\times {\\color{RedOrange}{10}} \\\\\n",
        " {\\color{green}{3}} \\times {\\color{purple}{7}} + {\\color{green}{6}} \\times {\\color{purple}{8}} &  {\\color{green}{3}} \\times {\\color{RedOrange}{9}} + {\\color{green}{6}} \\times {\\color{RedOrange}{10}} \\\\\n",
        "\\end{bmatrix}_{3 \\times 2} \n",
        "= \\begin{bmatrix}\n",
        " 39 & 49 \\\\\n",
        " 54 & 68 \\\\\n",
        " 69 & 87 \\\\\n",
        "\\end{bmatrix}_{3 \\times 2} \n",
        "$$"
      ]
    },
    {
      "cell_type": "code",
      "metadata": {
        "ExecuteTime": {
          "end_time": "2019-01-22T06:59:38.003462Z",
          "start_time": "2019-01-22T06:59:37.989098Z"
        },
        "colab": {
          "base_uri": "https://localhost:8080/"
        },
        "id": "jbU7IiGA8w0X",
        "outputId": "6c5b2c28-8e50-4740-9d40-6eb51dc90bc5"
      },
      "source": [
        "# Setup both matrices\n",
        "A = (np.arange(6) + 1).reshape((2, 3)).T\n",
        "B = (np.arange(4) + 7).reshape((2, 2)).T\n",
        "print(f\"A:\\n{A}\\n\")\n",
        "print(f\"B:\\n{B}\\n\")\n",
        "\n",
        "# Perform matrix-vector multiplication with dot\n",
        "matrix_matrix_multiplication = np.dot(A, B)\n",
        "print(f\"Matrix-matrix multiplication of AB: \\n {matrix_matrix_multiplication} \\n\")"
      ],
      "execution_count": null,
      "outputs": [
        {
          "output_type": "stream",
          "text": [
            "A:\n",
            "[[1 4]\n",
            " [2 5]\n",
            " [3 6]]\n",
            "\n",
            "B:\n",
            "[[ 7  9]\n",
            " [ 8 10]]\n",
            "\n",
            "Matrix-matrix multiplication of AB: \n",
            " [[39 49]\n",
            " [54 68]\n",
            " [69 87]] \n",
            "\n"
          ],
          "name": "stdout"
        }
      ]
    },
    {
      "cell_type": "markdown",
      "metadata": {
        "id": "BEM4bPVaXiaH"
      },
      "source": [
        "### Matrix Multiplication Hiccups\n",
        "\n",
        "One common mistake when using NumPy is to perform matrix multiplication using `*` or `@` and `np.matmul(A, B)`. These operators are not performing a matrix multiplication!\n"
      ]
    },
    {
      "cell_type": "markdown",
      "metadata": {
        "id": "SThLICb0jNc8"
      },
      "source": [
        "#### Hadamard product / Element-wise multiplication\n",
        "\n",
        "The `*` operator is performing element-wise multiplication. Element-wise multiplication is known as the \"Hadamard product\". We present a definition of the hadamard product next.\n",
        "\n",
        "Given two matrices $\\mathbf{A}, \\mathbf{B} \\in \\mathbb{R}^{n \\times m}$, we have:\n",
        "\n",
        "$$\\begin{align}\n",
        "(\\mathbf{A} \\circ \\mathbf{B})_{ij} &= (\\mathbf{A} \\odot \\mathbf{B})_{ij} \\\\\n",
        "&= (\\mathbf{A})_{ij} (\\mathbf{B})_{ij} \\\\\n",
        "&=\\begin{bmatrix}\n",
        " a_{11}b_{11} & a_{12}b_{12} & \\cdots & a_{1m}b_{1m} \\\\\n",
        " a_{21}b_{21} & a_{22}b_{22} & \\cdots & a_{2m}b_{2m} \\\\\n",
        "\\vdots & \\vdots & \\ddots & \\vdots \\\\\n",
        " a_{n1}b_{n1} & a_{n2}b_{n1} & \\cdots & a_{nm}b_{nm} \\\\\n",
        "\\end{bmatrix}_{n \\times m}\n",
        "\\end{align}$$"
      ]
    },
    {
      "cell_type": "code",
      "metadata": {
        "colab": {
          "base_uri": "https://localhost:8080/"
        },
        "id": "rHJjbNBSjKAN",
        "outputId": "83bd74f0-f664-4675-9c1e-afcd5596f313"
      },
      "source": [
        "# Setup two matrices\n",
        "A = (np.arange(9) + 1).reshape((3, 3)).T\n",
        "B = (np.arange(9) + 2).reshape((3, 3)).T\n",
        "print(f\"A:\\n{A}\\n\")\n",
        "print(f\"B:\\n{B}\\n\")\n",
        "\n",
        "# Perform element-wise multiplication\n",
        "element_wise_multiplication = A * B\n",
        "\n",
        "print(f\"Element-wise multiplication of A * B:\\n{element_wise_multiplication}\")"
      ],
      "execution_count": null,
      "outputs": [
        {
          "output_type": "stream",
          "text": [
            "A:\n",
            "[[1 4 7]\n",
            " [2 5 8]\n",
            " [3 6 9]]\n",
            "\n",
            "B:\n",
            "[[ 2  5  8]\n",
            " [ 3  6  9]\n",
            " [ 4  7 10]]\n",
            "\n",
            "Element-wise multiplication of A * B:\n",
            "[[ 2 20 56]\n",
            " [ 6 30 72]\n",
            " [12 42 90]]\n"
          ],
          "name": "stdout"
        }
      ]
    },
    {
      "cell_type": "markdown",
      "metadata": {
        "id": "94uECzUojKya"
      },
      "source": [
        "#### Danger: @ and matmul()\n",
        "\n",
        "On the other hand, both `@` and `np.matmul(A, B)` perform a very different matrix multiplication procedure. \n",
        "\n",
        "From [`np.matmul`'s documentation page](https://numpy.org/doc/stable/reference/generated/numpy.matmul.html):\n",
        "\n",
        "> `matmul` differs from `dot` in two important ways.\n",
        "> \n",
        "> - Multiplication by scalars is not allowed, use `*` instead.\n",
        "> - Stacks of matrices are broadcast together as if the matrices were elements,\n",
        ">   respecting the signature `(n,k),(k,m)->(n,m)`\n",
        "\n",
        "The last note emphasizes this function does not behave properly when working with tensors of order 3 or higher. (That is, it should be okay with matrix multiplication, but anything else may be incorrect!)"
      ]
    },
    {
      "cell_type": "code",
      "metadata": {
        "colab": {
          "base_uri": "https://localhost:8080/"
        },
        "id": "drC6mQUCmRrA",
        "outputId": "c56cab0f-504b-4643-dbb6-5ab3c60deb35"
      },
      "source": [
        "a = np.ones([9, 5, 7, 4])\n",
        "c = np.ones([9, 5, 4, 3])\n",
        "print(f\"Matrix-multiplication with `np.dot()` dimensions:\\n{np.dot(a, c).shape}\\n\")\n",
        "print(f\"Matrix-multiplication with `np.matmul()` dimensions:\\n{np.matmul(a, c).shape}\")"
      ],
      "execution_count": null,
      "outputs": [
        {
          "output_type": "stream",
          "text": [
            "Matrix-multiplication with `np.dot()` dimensions:\n",
            "(9, 5, 7, 9, 5, 3)\n",
            "\n",
            "Matrix-multiplication with `np.matmul()` dimensions:\n",
            "(9, 5, 7, 3)\n"
          ],
          "name": "stdout"
        }
      ]
    },
    {
      "cell_type": "markdown",
      "metadata": {
        "id": "a6stXZ_2hBRX"
      },
      "source": [
        "### Broadcasting\n",
        "\n",
        "With the discussion of matrix-products now complete, our attention turns to **Broadcasting** in NumPy. When two objects differ in shape dimension size, NumPy will try to recycle the \"smaller\" object to match the \"larger\" shape dimension. By doing so, NumPy is trying to create compatible shapes for the underlying operation to take place.\n",
        "\n",
        "From [NumPy Help Documentation: Broadcasting](https://numpy.org/doc/stable/user/basics.broadcasting.html):\n",
        "\n",
        "> NumPy compares their shapes element-wise. It starts with the trailing (i.e. rightmost) dimensions and works its way left. Two dimensions are compatible when\n",
        ">\n",
        "> - they are equal, or\n",
        "> - one of them is 1\n"
      ]
    },
    {
      "cell_type": "markdown",
      "metadata": {
        "id": "NA7VjkbZaUIb"
      },
      "source": [
        "![image.png](data:image/png;base64,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)"
      ]
    },
    {
      "cell_type": "markdown",
      "metadata": {
        "id": "9P-b1BX-sHJ8"
      },
      "source": [
        "In the case of a scalar, this means the scalar is replicated out $n$ times to match the length of the vector. "
      ]
    },
    {
      "cell_type": "code",
      "metadata": {
        "colab": {
          "base_uri": "https://localhost:8080/"
        },
        "id": "Jz-Tx3nyroaU",
        "outputId": "e6f354a8-b5c4-422f-f666-79e1796b18e4"
      },
      "source": [
        "a = 2\n",
        "x = np.array([1, 2, 3])\n",
        "print(f\"a*x: {a*x}\")"
      ],
      "execution_count": null,
      "outputs": [
        {
          "output_type": "stream",
          "text": [
            "a*x: [2 4 6]\n"
          ],
          "name": "stdout"
        }
      ]
    },
    {
      "cell_type": "markdown",
      "metadata": {
        "id": "tcl5EMrwsN2r"
      },
      "source": [
        "Another example would be applying a vector across a matrix."
      ]
    },
    {
      "cell_type": "code",
      "metadata": {
        "colab": {
          "base_uri": "https://localhost:8080/"
        },
        "id": "7HKJDnLzshYB",
        "outputId": "90675644-23dc-4416-fc4e-9bcf11c94253"
      },
      "source": [
        "A = np.array(\n",
        "    [\n",
        "     [1, 2, 3],\n",
        "     [4, 5, 6],\n",
        "     [7, 8, 9]\n",
        "    ]\n",
        ")\n",
        "x = np.array([10, 11, 12])\n",
        "\n",
        "print(f\"A: \\n{A}\\n\")\n",
        "print(f\"x: \\n{x}\\n\")\n",
        "print(f\"A*x: \\n{A*x}\")"
      ],
      "execution_count": null,
      "outputs": [
        {
          "output_type": "stream",
          "text": [
            "A: \n",
            "[[1 2 3]\n",
            " [4 5 6]\n",
            " [7 8 9]]\n",
            "\n",
            "x: \n",
            "[10 11 12]\n",
            "\n",
            "A*x: \n",
            "[[ 10  22  36]\n",
            " [ 40  55  72]\n",
            " [ 70  88 108]]\n"
          ],
          "name": "stdout"
        }
      ]
    },
    {
      "cell_type": "markdown",
      "metadata": {
        "id": "rkZQebvNsuT9"
      },
      "source": [
        "Lastly, we finish with an example that will trigger an error because the smaller shape cannot be broadcast to match the larger shape."
      ]
    },
    {
      "cell_type": "code",
      "metadata": {
        "colab": {
          "base_uri": "https://localhost:8080/",
          "height": 218
        },
        "id": "Orie9YFIsh-x",
        "outputId": "8e734f0b-783f-4dd3-920e-dadb63d03329"
      },
      "source": [
        "A = np.array(\n",
        "  [\n",
        "    [1, 2, 3],\n",
        "    [4, 5, 6]\n",
        "  ]\n",
        ")\n",
        "b = np.array([7, 8])\n",
        "\n",
        "A*b\n",
        "# operands could not be broadcast together with shapes (2,3) (2,) "
      ],
      "execution_count": null,
      "outputs": [
        {
          "output_type": "error",
          "ename": "ValueError",
          "evalue": "ignored",
          "traceback": [
            "\u001b[0;31m---------------------------------------------------------------------------\u001b[0m",
            "\u001b[0;31mValueError\u001b[0m                                Traceback (most recent call last)",
            "\u001b[0;32m<ipython-input-39-e1fd138f51f5>\u001b[0m in \u001b[0;36m<module>\u001b[0;34m()\u001b[0m\n\u001b[1;32m      7\u001b[0m \u001b[0mb\u001b[0m \u001b[0;34m=\u001b[0m \u001b[0mnp\u001b[0m\u001b[0;34m.\u001b[0m\u001b[0marray\u001b[0m\u001b[0;34m(\u001b[0m\u001b[0;34m[\u001b[0m\u001b[0;36m7\u001b[0m\u001b[0;34m,\u001b[0m \u001b[0;36m8\u001b[0m\u001b[0;34m]\u001b[0m\u001b[0;34m)\u001b[0m\u001b[0;34m\u001b[0m\u001b[0;34m\u001b[0m\u001b[0m\n\u001b[1;32m      8\u001b[0m \u001b[0;34m\u001b[0m\u001b[0m\n\u001b[0;32m----> 9\u001b[0;31m \u001b[0mA\u001b[0m\u001b[0;34m*\u001b[0m\u001b[0mb\u001b[0m\u001b[0;34m\u001b[0m\u001b[0;34m\u001b[0m\u001b[0m\n\u001b[0m\u001b[1;32m     10\u001b[0m \u001b[0;31m# operands could not be broadcast together with shapes (2,3) (2,)\u001b[0m\u001b[0;34m\u001b[0m\u001b[0;34m\u001b[0m\u001b[0;34m\u001b[0m\u001b[0m\n",
            "\u001b[0;31mValueError\u001b[0m: operands could not be broadcast together with shapes (2,3) (2,) "
          ]
        }
      ]
    },
    {
      "cell_type": "markdown",
      "metadata": {
        "id": "T8RhAB9Is-jL"
      },
      "source": [
        "We can ensure the broadcast occurs by adding a second dimension to `b`."
      ]
    },
    {
      "cell_type": "code",
      "metadata": {
        "colab": {
          "base_uri": "https://localhost:8080/"
        },
        "id": "3Y9DTxHSs6YC",
        "outputId": "501ee419-602e-44b7-f30f-22ed0f9d619a"
      },
      "source": [
        "b = np.array([7, 8]).reshape((2,1))\n",
        "\n",
        "A*b"
      ],
      "execution_count": null,
      "outputs": [
        {
          "output_type": "execute_result",
          "data": {
            "text/plain": [
              "array([[ 7, 14, 21],\n",
              "       [32, 40, 48]])"
            ]
          },
          "metadata": {
            "tags": []
          },
          "execution_count": 40
        }
      ]
    },
    {
      "cell_type": "markdown",
      "metadata": {
        "id": "iTBlCm4J8w0R"
      },
      "source": [
        "## Tensors\n",
        "\n",
        "Tensors represent a generic $p$-Dimensional object. If $p = 3$, the tensor would be called a cube that had (height, width, depth). In the context of Deep Learning, cubes would be used to hold the data for a _single_ **color** image's data. Color images are encoded under a Red-Green-Blue (RGB) dimensional scheme.\n",
        "\n",
        "If $p = 4$, then it would be called a **tesseract** or **4-dimensional hypercube**. However, as dimensionality increases, e.g. $p \\rightarrow \\infty$ , it quickly becomes easier to call it a $p$-dimensional object or tensor of order $p$."
      ]
    },
    {
      "cell_type": "markdown",
      "metadata": {
        "id": "2WkPuVhypJs9"
      },
      "source": [
        "### Cube: $3$-dimensional object\n",
        "\n",
        "For the first $p$-dimensional object, let's construct a cube or 3-dimensional tensor that has a depth of 4, height of 2, width of 3 or $4 \\times 2 \\times 3$. Unlike in other languages, NumPy places the \"depth\" before the height and width. Let's define each matrix inside of the cube prior to construction as:\n",
        "\n",
        "$$\\begin{align}\n",
        "\\mathbf{O}_{0, i, j} = \\mathbf{W}_{2 \\times 3} &= \\lbordermatrix{0 & 1 & 2}{0 \\\\ 1}{\n",
        "  \\begin{bmatrix} \n",
        "   \\color{blue}{1} & \\color{orange}{3} & \\color{yellow}{5} \\\\\n",
        "   \\color{pink}{2} & \\color{red}{4} & \\color{green}{6} \\\\\n",
        "  \\end{bmatrix}\n",
        "}_{2 \\times 3} \\\\\n",
        "\\mathbf{O}_{1, i, j} = \\mathbf{X}_{2 \\times 3} &= \\lbordermatrix{0 & 1 & 2}{0 \\\\ 1}{\n",
        "  \\begin{bmatrix} \n",
        "   \\color{blue}{7} & \\color{orange}{8} & \\color{yellow}{9} \\\\\n",
        "   \\color{pink}{10} & \\color{red}{11} & \\color{green}{12} \\\\\n",
        "  \\end{bmatrix}\n",
        "}_{2 \\times 3} \\\\\n",
        "\\mathbf{O}_{2, i, j} = \\mathbf{Y}_{2 \\times 3} &= \\lbordermatrix{0 & 1 & 2}{0 \\\\ 1}{\n",
        "  \\begin{bmatrix} \n",
        "   \\color{blue}{13} & \\color{orange}{14} & \\color{yellow}{15} \\\\\n",
        "   \\color{pink}{16} & \\color{red}{17} & \\color{green}{18} \\\\\n",
        "  \\end{bmatrix}\n",
        "}_{2 \\times 3} \\\\\n",
        "\\mathbf{O}_{3, i, j} = \\mathbf{Z}_{2 \\times 3} &= \\lbordermatrix{0 & 1 & 2}{0 \\\\ 1}{\n",
        "  \\begin{bmatrix} \n",
        "   \\color{blue}{19} & \\color{orange}{20} & \\color{yellow}{21} \\\\\n",
        "   \\color{pink}{22} & \\color{red}{23} & \\color{green}{24} \\\\\n",
        "  \\end{bmatrix}\n",
        "}_{2 \\times 3} \\\\\n",
        "\\end{align}$$\n",
        "\n",
        "Notice, we're storing a matrix within each \"slice\" of the cube.\n"
      ]
    },
    {
      "cell_type": "code",
      "metadata": {
        "ExecuteTime": {
          "end_time": "2019-01-22T06:59:37.880386Z",
          "start_time": "2019-01-22T06:59:37.869406Z"
        },
        "colab": {
          "base_uri": "https://localhost:8080/"
        },
        "id": "cDkocdDO8w0R",
        "outputId": "01d66ced-d9d4-4260-d198-d2cdfc4edf57"
      },
      "source": [
        "# Individually construct matrices\n",
        "W = np.array(\n",
        "    [[1, 2, 3], [4, 5, 6]]\n",
        ")\n",
        "X = np.array(\n",
        "    [[7, 8, 9], [10, 11, 12]]\n",
        ")\n",
        "Y = np.array(\n",
        "    [[13, 14, 15], [16, 17, 18]]\n",
        ")\n",
        "Z = np.array(\n",
        "    [[19, 20, 21], [22, 23, 24]]\n",
        ")\n",
        "\n",
        "# Combine matrices into cube\n",
        "O = np.array(\n",
        "    [\n",
        "     W, # Matrix 2 x 3\n",
        "     X, # Matrix 2 x 3\n",
        "     Y, # Matrix 2 x 3\n",
        "     Z, # Matrix 2 x 3\n",
        "    ]\n",
        "  )\n",
        "\n",
        "# Another approach is to use stack\n",
        "O_stacked = np.stack([W, X, Y, Z])\n",
        "\n",
        "# Alternatively, the matrices can be directly embedded\n",
        "O_inline = np.array(\n",
        "    [\n",
        "      [[1, 2, 3], [4, 5, 6]],       # Matrix 2 x 3\n",
        "      [[7, 8, 9], [10, 11, 12]],    # Matrix 2 x 3\n",
        "      [[13, 14, 15], [16, 17, 18]], # Matrix 2 x 3\n",
        "      [[19, 20, 21], [22, 23, 24]]  # Matrix 2 x 3\n",
        "    ]\n",
        "  )\n",
        "\n",
        "print(f\"X.shape: {X.shape}\")\n",
        "print(f\"X: \\n {X} \\n\")\n",
        "\n",
        "print(f\"Y.shape: {Y.shape}\")\n",
        "print(f\"Y: \\n {Y} \\n\")\n",
        "\n",
        "print(f\"Z.shape: {Z.shape}\")\n",
        "print(f\"Z: \\n {Z} \\n\")\n",
        "\n",
        "print(f\"O.shape: {O.shape}\")\n",
        "print(f\"O: \\n {O}\")"
      ],
      "execution_count": null,
      "outputs": [
        {
          "output_type": "stream",
          "text": [
            "X.shape: (2, 3)\n",
            "X: \n",
            " [[ 7  8  9]\n",
            " [10 11 12]] \n",
            "\n",
            "Y.shape: (2, 3)\n",
            "Y: \n",
            " [[13 14 15]\n",
            " [16 17 18]] \n",
            "\n",
            "Z.shape: (2, 3)\n",
            "Z: \n",
            " [[19 20 21]\n",
            " [22 23 24]] \n",
            "\n",
            "O.shape: (4, 2, 3)\n",
            "O: \n",
            " [[[ 1  2  3]\n",
            "  [ 4  5  6]]\n",
            "\n",
            " [[ 7  8  9]\n",
            "  [10 11 12]]\n",
            "\n",
            " [[13 14 15]\n",
            "  [16 17 18]]\n",
            "\n",
            " [[19 20 21]\n",
            "  [22 23 24]]]\n"
          ],
          "name": "stdout"
        }
      ]
    },
    {
      "cell_type": "markdown",
      "metadata": {
        "id": "AUlsbPUP8w0S"
      },
      "source": [
        "### Tensor Arithmetic\n",
        "\n",
        "For any two tensors $X$ and $Y$ with the same shape, we can perform the \"AXPY\" operation, $\\alpha X + Y$, and receive a tensor of a similar shape."
      ]
    },
    {
      "cell_type": "code",
      "metadata": {
        "ExecuteTime": {
          "end_time": "2019-01-22T06:59:37.896390Z",
          "start_time": "2019-01-22T06:59:37.883657Z"
        },
        "id": "ro1tQIXz8w0S",
        "colab": {
          "base_uri": "https://localhost:8080/"
        },
        "outputId": "6f00a5e2-5a33-4fbd-a1dd-f2d81ddab17c"
      },
      "source": [
        "a = -3\n",
        "x = np.ones(4)\n",
        "y = np.arange(4)\n",
        "\n",
        "ax = a * x\n",
        "ax_y = a * x + y\n",
        "\n",
        "print(f\"Shape of x: {x.shape}\")\n",
        "print(f\"Shape of y: {y.shape}\")\n",
        "print(f\"Shape of ax: {ax.shape} \\n Contents of ax: \\n {ax}\")\n",
        "print(f\"Shape of ax_y: {ax_y.shape} \\n Contents of ax_y: \\n {ax_y}\")"
      ],
      "execution_count": null,
      "outputs": [
        {
          "output_type": "stream",
          "text": [
            "Shape of x: (4,)\n",
            "Shape of y: (4,)\n",
            "Shape of ax: (4,) \n",
            " Contents of ax: \n",
            " [-3. -3. -3. -3.]\n",
            "Shape of ax_y: (4,) \n",
            " Contents of ax_y: \n",
            " [-3. -2. -1.  0.]\n"
          ],
          "name": "stdout"
        }
      ]
    },
    {
      "cell_type": "markdown",
      "metadata": {
        "id": "sPmK3WqV8w0S"
      },
      "source": [
        "## Functions for Tensors Across Axes\n",
        "\n",
        "Two operations that are useful are summations ($\\sum$) and products ($\\Pi$). Both provide a view into values held within a tensor. By default, either operation will be performed across all elements or \"all axes\". Axes in this context refers to the dimension a tensor has. In the case of a 2-dimensional tensor or matrix, we would have:\n",
        "\n",
        "- **Summation across all elements**\n",
        "\n",
        "$$\n",
        "\\sum_{i=0}^{n-1}\\sum_{j=0}^{m-1} a_{i,j} = a_{0,0} + a_{0,1} + \\cdots + a_{n-1, m-1}\n",
        "$$\n",
        "\n",
        "- **Multiplication across all elements**\n",
        "\n",
        "$$\n",
        "\\Pi_{i=0}^{n-1}\\Pi_{j=0}^{m-1} a_{i,j} = a_{0,0} \\times a_{0,1} \\times \\cdots \\times a_{n-1,m-1}\n",
        "$$\n",
        "\n",
        "As a practical example, we would have:\n",
        "\n",
        "$$\n",
        "\\mathbf{A}_{2 \\times 2} = \\lbordermatrix{0 & 1}{0 \\\\ 1}{\n",
        "  \\begin{bmatrix} \n",
        "   \\color{blue}{1} & \\color{orange}{3} \\\\\n",
        "   \\color{pink}{2} & \\color{red}{4} \\\\\n",
        "  \\end{bmatrix}\n",
        "}_{2 \\times 2}\n",
        "$$\n",
        "\n",
        "$$\n",
        "\\begin{align}\n",
        "\\sum_{i=0}^{n-1}\\sum_{j=0}^{m-1} a_{i,j} &= {\\color{blue}{1}} + {\\color{orange}{3}} + {\\color{pink}{2}} + {\\color{red}{4}} = 10 \\\\\n",
        "\\Pi_{i=0}^{n-1}\\Pi_{j=0}^{m-1} a_{i,j} &= {\\color{blue}{1}} \\times {\\color{orange}{3}} \\times {\\color{pink}{2}} \\times {\\color{red}{4}} = 24\n",
        "\\end{align}\n",
        "$$\n",
        "\n"
      ]
    },
    {
      "cell_type": "code",
      "metadata": {
        "ExecuteTime": {
          "end_time": "2019-01-22T06:59:37.911193Z",
          "start_time": "2019-01-22T06:59:37.899472Z"
        },
        "colab": {
          "base_uri": "https://localhost:8080/"
        },
        "id": "meQjKztg8w0S",
        "outputId": "368c8aa5-53bb-40dc-9dea-5c0a0d992930"
      },
      "source": [
        "# Construct data\n",
        "A = (np.arange(4)+1).reshape((2,2))\n",
        "print(f\"A = \\n{A}\\n\")\n",
        "\n",
        "# Calculate in an element-wise fashion\n",
        "sum_A = np.sum(A)\n",
        "prod_A = np.prod(A)\n",
        "\n",
        "# See results\n",
        "print(f\"Sum of A = {sum_A}, Product of A = {prod_A}\")"
      ],
      "execution_count": null,
      "outputs": [
        {
          "output_type": "stream",
          "text": [
            "A = \n",
            "[[1 2]\n",
            " [3 4]]\n",
            "\n",
            "Sum of A = 10, Product of A = 24\n"
          ],
          "name": "stdout"
        }
      ]
    },
    {
      "cell_type": "markdown",
      "metadata": {
        "id": "YcBE4-STrezG"
      },
      "source": [
        "The summation could also be converted quickly to an average of the matrix by dividing the summation with the total number of elements. \n",
        "\n",
        "$$\\operatorname{mean}(\\mathbf{A}) = \\frac{1}{nm}\\sum_{i=0}^{n-1}\\sum_{j=0}^{m-1} a_{i,j} = \\frac{1}{2\\cdot2}\\left( {\\color{blue}{1}} + {\\color{orange}{3}} + {\\color{pink}{2}} + {\\color{red}{4}} \\right) = \\frac{10}{4} = 2.5$$\n"
      ]
    },
    {
      "cell_type": "code",
      "metadata": {
        "colab": {
          "base_uri": "https://localhost:8080/"
        },
        "id": "8t6J2fnErn7t",
        "outputId": "8415a23d-75f9-492e-c566-9ef7eb429458"
      },
      "source": [
        "A = (np.arange(4)+1).reshape((2,2))\n",
        "print(f\"A: \\n{A}\\n\")\n",
        "\n",
        "n_elements_A = A.size\n",
        "print(f\"Number of Elements in A: {n_elements_A}\\n\")\n",
        "\n",
        "mean_A = np.mean(A)\n",
        "mean_by_sum_A = np.sum(A) / A.size\n",
        "\n",
        "print(f\"Mean of A: {mean_A}\")\n",
        "print(f\"Mean of A by sum and elements: {mean_by_sum_A}\")"
      ],
      "execution_count": null,
      "outputs": [
        {
          "output_type": "stream",
          "text": [
            "A: \n",
            "[[1 2]\n",
            " [3 4]]\n",
            "\n",
            "Number of Elements in A: 4\n",
            "\n",
            "Mean of A: 2.5\n",
            "Mean of A by sum and elements: 2.5\n"
          ],
          "name": "stdout"
        }
      ]
    },
    {
      "cell_type": "markdown",
      "metadata": {
        "id": "ZaV-8_Fp8w0T"
      },
      "source": [
        "## Axes-specific Operations \n",
        "\n",
        "Alternatively, we can choose to only look at specific dimensions by iterating over the axis associated with it. The most common axis operations are row-wise (`axis = 0`) and column-wise (`axis = 1`) summations.\n",
        "\n",
        "Let's define two operators for retrieving values in either a column or row-wise manner from the Matrix.\n",
        "\n",
        "- Row $i$ of matrix $\\mathbf{A}_{n \\times m}$ is denoted by either $\\operatorname{row}_{i}\\left(\\mathbf{A}\\right)$ or $ \\mathbf{A}_{i,*}$ such that: \n",
        "\n",
        "$$\\mathbf{A}_{i,*} = [a_{i1}\\>a_{i2}\\>\\ldots \\>a_{im}]$$\n",
        "\n",
        "- Column $j$ of matrix $\\mathbf{A}_{n \\times m}$ is denoted by either $\\operatorname{col}_{j}\\left(\\mathbf{A}\\right)$ or $ \\mathbf{A}_{*,j}$ such that:\n",
        "\n",
        "$$\\mathbf{A}_{*,j} = \\left[\\matrix{a_{1j}\\cr a_{2j}\\cr\\vdots\\cr a_{nj}\\cr}\\right]\\ .$$\n",
        "\n",
        "\n"
      ]
    },
    {
      "cell_type": "markdown",
      "metadata": {
        "id": "wXmejL2y2f4v"
      },
      "source": [
        "When talking about **row-wise** operations, we're describing action on **all rows** for **each column**.\n",
        "\n",
        "$$\n",
        "\\mathbf{A}_{4 \\times 4} = \\lbordermatrix{\n",
        "    % Columns\n",
        "    \\highlightcolor{lightblue}{0}\\hphantom{{0}} & \n",
        "    \\highlightcolor{orange}{1}   \\hphantom{{0}} & \n",
        "    \\highlightcolor{lightgrey}{2}\\hphantom{{0}} & \n",
        "    \\highlightcolor{pink}{3}     \\hphantom{{0}}\n",
        "  }{\n",
        "    % rows\n",
        "    0 \\\\ 1 \\\\ 2 \\\\ 3\n",
        "  }{\n",
        "  \\begin{bmatrix} \n",
        "   \\highlightcolor{lightblue}{a_{00}} & \\highlightcolor{orange}{a_{01}} & \\highlightcolor{lightgrey}{a_{02}} & \\highlightcolor{pink}{a_{03}} \\\\\n",
        "   \\highlightcolor{lightblue}{a_{10}} & \\highlightcolor{orange}{a_{11}} & \\highlightcolor{lightgrey}{a_{12}} & \\highlightcolor{pink}{a_{13}} \\\\ \n",
        "   \\highlightcolor{lightblue}{a_{20}} & \\highlightcolor{orange}{a_{21}} & \\highlightcolor{lightgrey}{a_{22}} & \\highlightcolor{pink}{a_{23}} \\\\\n",
        "   \\highlightcolor{lightblue}{a_{30}} & \\highlightcolor{orange}{a_{31}} & \\highlightcolor{lightgrey}{a_{32}} & \\highlightcolor{pink}{a_{33}} \n",
        "  \\end{bmatrix}\n",
        "}_{4 \\times 4}\n",
        "$$\n",
        "\n"
      ]
    },
    {
      "cell_type": "markdown",
      "metadata": {
        "id": "jl2qINf-WodH"
      },
      "source": [
        "If we were to take a row-wise summation, we would get: \n",
        "\n",
        "$$\n",
        "\\begin{align}\n",
        "c_j &= \\sum_{i=0}^{n-1} \\operatorname{col}_{j}(A) \\\\\n",
        "&= \\sum_{i=0}^{n-1} a_{i,j} = \n",
        "a_{0,j} + a_{1, j} + \\cdots + a_{n-1, j} \\\\\n",
        "&= \\lbordermatrix{\n",
        "    % Columns\n",
        "    \\hphantom{0}\\highlightcolor{lightblue}{j = 0}\\hphantom{000000} & \n",
        "    \\hphantom{000000}\\highlightcolor{orange}{j = 1}   \\hphantom{00000} & \n",
        "    \\hphantom{000000}\\highlightcolor{lightgrey}{j = 2}\\hphantom{00000} & \n",
        "    \\hphantom{00000000}\\highlightcolor{pink}{j = 3}     \\hphantom{0}\n",
        "  }{\n",
        "    % rows\n",
        "    0 \n",
        "  }{\n",
        "  \\begin{bmatrix} \n",
        "   \\highlightcolor{lightblue}{a_{00} + a_{10} + a_{30} + a_{30}} & \\highlightcolor{orange}{a_{01} + a_{11} + a_{21} + a_{31}} & \\highlightcolor{lightgrey}{a_{02} + a_{12} + a_{22} + a_{32}} & \\highlightcolor{pink}{a_{03} + a_{13} + a_{23} + a_{33}} \\\\\n",
        "  \\end{bmatrix}\n",
        "}_{1 \\times 4}\n",
        "\\end{align}\n",
        "$$"
      ]
    },
    {
      "cell_type": "markdown",
      "metadata": {
        "id": "8CMNB_uxWaBh"
      },
      "source": [
        "\n",
        "\n",
        "For **column-wise** operations, the action takes place on **all columns** for **each row**. \n",
        "\n",
        "$$\n",
        "\\mathbf{A}_{4 \\times 4} = \\lbordermatrix{\n",
        "  % columns\n",
        "  0\\hphantom{{00}} & \n",
        "  \\hphantom{{0}}1 & \n",
        "  \\hphantom{{00}}2\\hphantom{{0}} & \n",
        "  \\hphantom{{0}}3\\hphantom{{0}}\n",
        "  }{\n",
        "    % rows\n",
        "    \\highlightcolor{Orchid}{0} \\\\\n",
        "    \\highlightcolor{Goldenrod}{1} \\\\ \n",
        "    \\highlightcolor{Melon}{2} \\\\ \n",
        "    \\highlightcolor{Aquamarine}{3}}{\n",
        "  % Annotated matrix\n",
        "  \\begin{bmatrix} \n",
        "   \\highlightcolor{Orchid}{a_{00}} & \\highlightcolor{Orchid}{a_{01}} & \\highlightcolor{Orchid}{a_{02}} & \\highlightcolor{Orchid}{a_{03}} \\\\\n",
        "   \\highlightcolor{Goldenrod}{a_{10}} & \\highlightcolor{Goldenrod}{a_{11}} & \\highlightcolor{Goldenrod}{a_{12}} & \\highlightcolor{Goldenrod}{a_{13}} \\\\ \n",
        "   \\highlightcolor{Melon}{a_{20}} & \\highlightcolor{Melon}{a_{21}} & \\highlightcolor{Melon}{a_{22}} & \\highlightcolor{Melon}{a_{23}} \\\\\n",
        "   \\highlightcolor{Aquamarine}{a_{30}} & \\highlightcolor{Aquamarine}{a_{31}} & \\highlightcolor{Aquamarine}{a_{32}} & \\highlightcolor{Aquamarine}{a_{33}} \n",
        "  \\end{bmatrix}\n",
        "}_{4 \\times 4}\n",
        "$$"
      ]
    },
    {
      "cell_type": "markdown",
      "metadata": {
        "id": "xhHVhS1SWkW1"
      },
      "source": [
        "If we were to take a **column-wise** summation, we would get: \n",
        "\n",
        "$$\n",
        "\\begin{align}\n",
        "r_i &= \\sum_{j=0}^{m-1} \\operatorname{row}_{i}(A) \\\\\n",
        "&= \\sum_{j=0}^{m-1} a_{i,j} = \n",
        "a_{i,0} + a_{i, 1} + \\cdots + a_{i, m-1} \\\\\n",
        "&= \\lbordermatrix{\n",
        "    % Columns\n",
        "    0\n",
        "  }{\n",
        "    % rows\n",
        "    \\highlightcolor{Orchid}{j = 0} \\\\\n",
        "    \\highlightcolor{Goldenrod}{j = 1}    \\\\\n",
        "    \\highlightcolor{Melon}{j = 2} \\\\\n",
        "    \\highlightcolor{Aquamarine}{j = 3}   \n",
        "  }{\n",
        "  \\begin{bmatrix} \n",
        "   \\highlightcolor{Orchid}{a_{00} + a_{01} + a_{02} + a_{03}} \\\\\n",
        "   \\highlightcolor{Goldenrod}{a_{10} + a_{11} + a_{12} + a_{13}} \\\\\n",
        "   \\highlightcolor{Melon}{a_{20} + a_{21} + a_{22} + a_{23}} \\\\\n",
        "   \\highlightcolor{Aquamarine}{a_{30} + a_{31} + a_{32} + a_{33}} \n",
        "  \\end{bmatrix}\n",
        "}_{4 \\times 1}\n",
        "\\end{align}\n",
        "$$"
      ]
    },
    {
      "cell_type": "markdown",
      "metadata": {
        "id": "OwEAIv3F3PZA"
      },
      "source": [
        "\n",
        "For an example of row and column-wise summation, let's examine the following matrix:\n",
        "\n",
        "$$\n",
        "\\mathbf{A}_{3 \\times 2} = \\lbordermatrix{0 & 1}{0 \\\\ 1 \\\\ 2}{\n",
        "  \\begin{bmatrix} \n",
        "   1 & 2 \\\\\n",
        "   3 & 4 \\\\\n",
        "   5 & 6 \\\\\n",
        "  \\end{bmatrix}\n",
        "}_{3 \\times 2}$$\n",
        "\n",
        "If we perform a **row-wise** summation, this would give the total value for **each column**: \n",
        "\n",
        "$$\n",
        " \\mathbf{A}_{3 \\times 2} = \\lbordermatrix{\\highlightcolor{lightblue}{0} & \\highlightcolor{orange}{1}}{0 \\\\ 1 \\\\ 2}{\n",
        "  \\begin{bmatrix} \n",
        "   \\highlightcolor{lightblue}{1} & \\highlightcolor{orange}{2} \\\\\n",
        "   \\highlightcolor{lightblue}{3} & \\highlightcolor{orange}{4} \\\\\n",
        "   \\highlightcolor{lightblue}{5} & \\highlightcolor{orange}{6} \\\\\n",
        "  \\end{bmatrix}\n",
        "}_{3 \\times 2}$$\n",
        "\n",
        "$$\n",
        "\\begin{align}\n",
        "c_0 &= \\sum_{i=0}^{n-1} \\operatorname{col}_{0}(\\mathbf{A}) = 1 + 3 + 5 = \\highlightcolor{lightblue}{9}\\\\\n",
        "c_1 &= \\sum_{i=0}^{n-1} \\operatorname{col}_{1}(\\mathbf{A}) = 2 + 4 + 6 = \\highlightcolor{orange}{12}\\\\\n",
        "\\end{align}\n",
        "$$\n",
        "\n",
        "If we perform a **column-wise** summation, this would give the total value for **each row**: \n",
        "\n",
        "$$\n",
        " \\mathbf{A}_{3 \\times 2} = \\lbordermatrix{0 & 1}{\n",
        "   \\highlightcolor{Orchid}{0} \\\\ \n",
        "   \\highlightcolor{Goldenrod}{1} \\\\\n",
        "   \\highlightcolor{Melon}{2}\n",
        "  }{\n",
        "  \\begin{bmatrix} \n",
        "   \\highlightcolor{Orchid}{1} & \\highlightcolor{Orchid}{2} \\\\\n",
        "   \\highlightcolor{Goldenrod}{3} & \\highlightcolor{Goldenrod}{4} \\\\\n",
        "   \\highlightcolor{Melon}{5} & \\highlightcolor{Melon}{6} \\\\\n",
        "  \\end{bmatrix}\n",
        "}_{3 \\times 2}$$\n",
        "\n",
        "$$\n",
        "\\begin{align}\n",
        "r_0 &= \\sum_{j=0}^{m-1} \\operatorname{row}_{0}(\\mathbf{A}) = 1 + 2 = \\highlightcolor{Orchid}{9}\\\\\n",
        "r_1 &= \\sum_{j=0}^{m-1} \\operatorname{row}_{1}(\\mathbf{A}) = 3 + 4 = \\highlightcolor{Goldenrod}{7}\\\\\n",
        "r_2 &= \\sum_{j=0}^{m-1} \\operatorname{row}_{1}(\\mathbf{A}) = 5 + 6 = \\highlightcolor{Melon}{11}\\\\\n",
        "\\end{align}\n",
        "$$"
      ]
    },
    {
      "cell_type": "code",
      "metadata": {
        "ExecuteTime": {
          "end_time": "2019-01-22T06:59:37.922313Z",
          "start_time": "2019-01-22T06:59:37.914364Z"
        },
        "colab": {
          "base_uri": "https://localhost:8080/"
        },
        "id": "-8mRZ8Ox8w0T",
        "outputId": "0484c15e-b1e1-4750-e45d-7cedfd6725db"
      },
      "source": [
        "A = (np.arange(6)+1).reshape((3,2))\n",
        "print(f\"A: \\n{A}\\n\")\n",
        "\n",
        "A_col_sum = np.sum(A, axis = 0)\n",
        "print(f\"Column sum of A is A_{{:, j}}\\n{A_col_sum}\\n\")\n",
        "\n",
        "A_row_sum = np.sum(A, axis = 1)\n",
        "print(f\"Row sum of A is A_{{i, :}}\\n{A_row_sum.reshape((3,1))}\\n\")\n",
        "\n",
        "A_row_column_sum = np.sum(A, axis = (0, 1))\n",
        "print(f\"Across Row and Column sums of A is A_{{:, :}}\\n{A_row_column_sum}\")"
      ],
      "execution_count": null,
      "outputs": [
        {
          "output_type": "stream",
          "text": [
            "A: \n",
            "[[1 2]\n",
            " [3 4]\n",
            " [5 6]]\n",
            "\n",
            "Column sum of A is A_{:, j}\n",
            "[ 9 12]\n",
            "\n",
            "Row sum of A is A_{i, :}\n",
            "[[ 3]\n",
            " [ 7]\n",
            " [11]]\n",
            "\n",
            "Across Row and Column sums of A is A_{:, :}\n",
            "21\n"
          ],
          "name": "stdout"
        }
      ]
    },
    {
      "cell_type": "markdown",
      "metadata": {
        "id": "-R8G1mnzBAaR"
      },
      "source": [
        "One point of interest is what happens when summing across both Row and Column \n",
        "values. "
      ]
    },
    {
      "cell_type": "code",
      "metadata": {
        "colab": {
          "base_uri": "https://localhost:8080/"
        },
        "id": "XkFHHzlZBbMH",
        "outputId": "33683bf0-45af-4ed5-f9d2-22930ae41d96"
      },
      "source": [
        "A_sum = np.sum(A)\n",
        "print(f\"Sum of A is A_{{:, :}}\\n{A_sum}\")\n",
        "\n",
        "A_row_column_sum = np.sum(A, axis = (0, 1))\n",
        "print(f\"Across Row and Column sums of A is A_{{:, :}}\\n{A_row_column_sum}\")"
      ],
      "execution_count": null,
      "outputs": [
        {
          "output_type": "stream",
          "text": [
            "Sum of A is A_{:, :}\n",
            "21\n",
            "Across Row and Column sums of A is A_{:, :}\n",
            "21\n"
          ],
          "name": "stdout"
        }
      ]
    },
    {
      "cell_type": "markdown",
      "metadata": {
        "id": "L3HaMA-B8w0X"
      },
      "source": [
        "## Norms\n",
        "\n",
        "\n",
        "Norms are ways of measuring how large a matrices elements are. Usually, norms are used when comparing an estimated value with a true value. Consider the $p$-norm or $\\ell_p$ of a vector $\\mathbf{x}$ given as \n",
        "$$\\lVert \\mathbf{x}\\rVert_p = \\left({\\sum_{i=1}^{n} \\lvert{ x_i^p}\\rvert} \\right)^{1/p} = \\left({ \\lvert{ x_1^p}\\rvert + \\lvert{ x_2^p}\\rvert + \\cdots + \\lvert{ x_n^p}\\rvert }\\right)^{1/p},$$\n",
        "\n",
        "where $p$ is a real number such that $p \\ge 1$, $x_i$ refers to the $i$th location in vector $x$, and $\\lvert x_i \\rvert$ is absolute value of $x$ at element $i$.\n",
        "\n",
        "In the case of the $\\ell_1$ and $\\ell_2$ norms, we have:\n",
        "\n",
        "$$\\begin{align}\n",
        "\\lVert \\mathbf{x}\\rVert_1 &= \\sum_{i=1}^{n} \\lvert{ x_i^p}\\rvert = \\left({ \\lvert{ x_1}\\rvert + \\lvert{ x_2}\\rvert + \\cdots + \\lvert{ x_n}\\rvert }\\right) \\\\\n",
        "\\lVert \\mathbf{x}\\rVert_2 &= \\left({\\sum_{i=1}^{n} \\lvert{ x_i^2}\\rvert} \\right)^{1/2} = \\left({ \\lvert{ x_1^2}\\rvert + \\lvert{ x_2^2}\\rvert + \\cdots + \\lvert{ x_n^2}\\rvert }\\right)^{1/2} = \\sqrt{ \\lvert{ x_1^2}\\rvert + \\lvert{ x_2^2}\\rvert + \\cdots + \\lvert{ x_n^2}\\rvert }\n",
        "\\end{align}$$\n"
      ]
    },
    {
      "cell_type": "markdown",
      "metadata": {
        "id": "LRcheosjuMaW"
      },
      "source": [
        "### Calculating a Norm\n",
        "\n",
        "Norms can be calculated using built-in NumPy functions or by writing custom expressions. In particular, the $\\ell_1$ norm, is obtained with:"
      ]
    },
    {
      "cell_type": "code",
      "metadata": {
        "ExecuteTime": {
          "end_time": "2019-01-22T06:59:38.037641Z",
          "start_time": "2019-01-22T06:59:38.026628Z"
        },
        "colab": {
          "base_uri": "https://localhost:8080/"
        },
        "id": "zy4VFiaw8w0Y",
        "outputId": "50f28580-c13f-4cac-f917-897bdc95331c"
      },
      "source": [
        "# Built-in L_1 norm\n",
        "l1_norm_numpy = np.linalg.norm(x[:,np.newaxis], 1)\n",
        "\n",
        "# Custom calculation with NumPy\n",
        "l1_norm_custom = np.sum(np.abs(x))\n",
        "\n",
        "# L1-norms\n",
        "print(f\"L_1 norm built-in: {l1_norm_numpy} \\n\")\n",
        "print(f\"L_1 norm custom: {l1_norm_custom} \\n\")"
      ],
      "execution_count": null,
      "outputs": [
        {
          "output_type": "stream",
          "text": [
            "L_1 norm built-in: 4.0 \n",
            "\n",
            "L_1 norm custom: 4.0 \n",
            "\n"
          ],
          "name": "stdout"
        }
      ]
    },
    {
      "cell_type": "markdown",
      "metadata": {
        "id": "245TqZs48w0Y"
      },
      "source": [
        "To calculate the $\\ell_2$-norm, use:"
      ]
    },
    {
      "cell_type": "code",
      "metadata": {
        "ExecuteTime": {
          "end_time": "2019-01-22T06:59:38.023692Z",
          "start_time": "2019-01-22T06:59:38.010330Z"
        },
        "colab": {
          "base_uri": "https://localhost:8080/"
        },
        "id": "GpN9-T_G8w0X",
        "outputId": "beeed7f9-3ac9-4a19-cef3-b07bf96ae129"
      },
      "source": [
        "# Built-in\n",
        "l2_norm_numpy = np.linalg.norm(x[:,np.newaxis], 'fro')\n",
        "\n",
        "# or a custom calculation with NumPy\n",
        "l2_norm_custom = np.sqrt(np.sum(np.power(np.abs(x), 2)))\n",
        "\n",
        "print(f\"L_2 norm built-in: {l2_norm_numpy} \\n\")\n",
        "print(f\"L_2 norm custom: {l2_norm_custom} \\n\")"
      ],
      "execution_count": null,
      "outputs": [
        {
          "output_type": "stream",
          "text": [
            "L_2 norm built-in: 2.0 \n",
            "\n",
            "L_2 norm custom: 2.0 \n",
            "\n"
          ],
          "name": "stdout"
        }
      ]
    },
    {
      "cell_type": "markdown",
      "metadata": {
        "id": "0OFiy9_otJJA"
      },
      "source": [
        "#### Your Turn: Norm Parity\n",
        "\n",
        "When taking a norm, is the absolute value always required regardless of $\\ell_p$?"
      ]
    },
    {
      "cell_type": "markdown",
      "metadata": {
        "id": "jkHXYko-SgMU"
      },
      "source": [
        "----\n",
        "\n",
        "answer here \n",
        "\n",
        "--- "
      ]
    }
  ]
}